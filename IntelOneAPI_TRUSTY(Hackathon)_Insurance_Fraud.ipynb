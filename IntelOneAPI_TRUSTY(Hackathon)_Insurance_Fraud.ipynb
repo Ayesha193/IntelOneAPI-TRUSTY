{
  "cells": [
    {
      "cell_type": "markdown",
      "metadata": {
        "id": "view-in-github",
        "colab_type": "text"
      },
      "source": [
        "<a href=\"https://colab.research.google.com/github/Ayesha193/IntelOneAPI-TRUSTY/blob/main/IntelOneAPI_TRUSTY(Hackathon)_Insurance_Fraud.ipynb\" target=\"_parent\"><img src=\"https://colab.research.google.com/assets/colab-badge.svg\" alt=\"Open In Colab\"/></a>"
      ]
    },
    {
      "cell_type": "markdown",
      "source": [
        "**IntelOneAPI-Open Innovation Challenge**\n",
        "\n",
        "\n",
        "\n",
        "**Team name:-BLAZER**"
      ],
      "metadata": {
        "id": "0YTetrEhcu8R"
      }
    },
    {
      "cell_type": "markdown",
      "source": [
        "**INSURANCE FRAUD DETECTION**"
      ],
      "metadata": {
        "id": "K2vs_4zocc6y"
      }
    },
    {
      "cell_type": "markdown",
      "metadata": {
        "id": "G99GXkS0defr"
      },
      "source": [
        "**Introduction:-**\n",
        "Many use pricey GPUs to shorten training and inference times for machine learning on industrial datasets that are getting bigger and bigger. Our project's demonstration will demonstrate how you may speed up your machine learning workflow utilising Intel's optimised libraries, which are both affordable and streamlined."
      ]
    },
    {
      "cell_type": "markdown",
      "metadata": {
        "id": "Qr4_YjVUdesl"
      },
      "source": [
        "**IntelOneAPI toolkits:-**\n",
        "This reference notebook will show you how to use multiple accelerated Python libraries included in the Intel® AI Analytics Toolkit to improve your ML workflow's training cycles, prediction throughput, and accuracy (AI Kit). The principal libraries we'll use in this notebook are:\n",
        "1. Intel® Distribution of Modin*\n",
        "2. Intel® Extension for Scikit-learn*\n",
        "\n",
        "1.   XGBoost Optimized for Intel® Architecture\n",
        "2. Intel® Daal4py\n",
        "\n"
      ]
    },
    {
      "cell_type": "markdown",
      "metadata": {
        "id": "gLGJ-txOdrzl"
      },
      "source": [
        "**About the project:-**\n",
        " In this project,I have demonstrated the results of our research by\n",
        "automating the evaluation of insurance claims using a variety of data\n",
        "methodologies, where the detection of erroneous claims would be done automatically using Data Analytics and Machine Learning techniques.Techniques such as **Logistic Regression,XGboosting and K-Means clustering** are used."
      ]
    },
    {
      "cell_type": "markdown",
      "metadata": {
        "id": "bY70BEykdw3M"
      },
      "source": [
        "**Installations**:-"
      ]
    },
    {
      "cell_type": "code",
      "execution_count": 1,
      "metadata": {
        "colab": {
          "base_uri": "https://localhost:8080/"
        },
        "id": "OFEn75EPduno",
        "outputId": "a7fe7f0f-7133-414d-d695-83ca5f6e5607"
      },
      "outputs": [
        {
          "output_type": "stream",
          "name": "stdout",
          "text": [
            "Looking in indexes: https://pypi.org/simple, https://us-python.pkg.dev/colab-wheels/public/simple/\n",
            "Requirement already satisfied: scikit-learn-intelex in /usr/local/lib/python3.8/dist-packages (2023.0.1)\n",
            "Requirement already satisfied: daal4py==2023.0.1 in /usr/local/lib/python3.8/dist-packages (from scikit-learn-intelex) (2023.0.1)\n",
            "Requirement already satisfied: scikit-learn>=0.22 in /usr/local/lib/python3.8/dist-packages (from scikit-learn-intelex) (1.0.2)\n",
            "Requirement already satisfied: numpy>=1.15 in /usr/local/lib/python3.8/dist-packages (from daal4py==2023.0.1->scikit-learn-intelex) (1.22.4)\n",
            "Requirement already satisfied: daal==2023.0.1 in /usr/local/lib/python3.8/dist-packages (from daal4py==2023.0.1->scikit-learn-intelex) (2023.0.1)\n",
            "Requirement already satisfied: tbb==2021.* in /usr/local/lib/python3.8/dist-packages (from daal==2023.0.1->daal4py==2023.0.1->scikit-learn-intelex) (2021.8.0)\n",
            "Requirement already satisfied: threadpoolctl>=2.0.0 in /usr/local/lib/python3.8/dist-packages (from scikit-learn>=0.22->scikit-learn-intelex) (3.1.0)\n",
            "Requirement already satisfied: scipy>=1.1.0 in /usr/local/lib/python3.8/dist-packages (from scikit-learn>=0.22->scikit-learn-intelex) (1.7.3)\n",
            "Requirement already satisfied: joblib>=0.11 in /usr/local/lib/python3.8/dist-packages (from scikit-learn>=0.22->scikit-learn-intelex) (1.2.0)\n",
            "Looking in indexes: https://pypi.org/simple, https://us-python.pkg.dev/colab-wheels/public/simple/\n",
            "Requirement already satisfied: modin in /usr/local/lib/python3.8/dist-packages (0.18.1)\n",
            "Requirement already satisfied: numpy>=1.18.5 in /usr/local/lib/python3.8/dist-packages (from modin) (1.22.4)\n",
            "Requirement already satisfied: pandas==1.5.3 in /usr/local/lib/python3.8/dist-packages (from modin) (1.5.3)\n",
            "Requirement already satisfied: packaging in /usr/local/lib/python3.8/dist-packages (from modin) (23.0)\n",
            "Requirement already satisfied: fsspec in /usr/local/lib/python3.8/dist-packages (from modin) (2023.1.0)\n",
            "Requirement already satisfied: psutil in /usr/local/lib/python3.8/dist-packages (from modin) (5.4.8)\n",
            "Requirement already satisfied: python-dateutil>=2.8.1 in /usr/local/lib/python3.8/dist-packages (from pandas==1.5.3->modin) (2.8.2)\n",
            "Requirement already satisfied: pytz>=2020.1 in /usr/local/lib/python3.8/dist-packages (from pandas==1.5.3->modin) (2022.7.1)\n",
            "Requirement already satisfied: six>=1.5 in /usr/local/lib/python3.8/dist-packages (from python-dateutil>=2.8.1->pandas==1.5.3->modin) (1.15.0)\n"
          ]
        }
      ],
      "source": [
        "!pip install scikit-learn-intelex\n",
        "!pip install modin"
      ]
    },
    {
      "cell_type": "markdown",
      "metadata": {
        "id": "dEAYoPaud8Dn"
      },
      "source": [
        "**Hardware Requirements:-**\n",
        "I have used 5th generation of Intel(R) Xeon(R) Core(TM) i5-10210U CPU @ 1.60GHz   2.11 GHz "
      ]
    },
    {
      "cell_type": "code",
      "execution_count": 2,
      "metadata": {
        "colab": {
          "base_uri": "https://localhost:8080/"
        },
        "id": "53SL-IU4d3cU",
        "outputId": "30dbd15b-7c53-4c47-d59e-1bb3020c3580"
      },
      "outputs": [
        {
          "output_type": "stream",
          "name": "stdout",
          "text": [
            "Architecture:                    x86_64\n",
            "CPU op-mode(s):                  32-bit, 64-bit\n",
            "Byte Order:                      Little Endian\n",
            "Address sizes:                   46 bits physical, 48 bits virtual\n",
            "CPU(s):                          2\n",
            "On-line CPU(s) list:             0,1\n",
            "Thread(s) per core:              2\n",
            "Core(s) per socket:              1\n",
            "Socket(s):                       1\n",
            "NUMA node(s):                    1\n",
            "Vendor ID:                       GenuineIntel\n",
            "CPU family:                      6\n",
            "Model:                           79\n",
            "Model name:                      Intel(R) Xeon(R) CPU @ 2.20GHz\n",
            "Stepping:                        0\n",
            "CPU MHz:                         2199.998\n",
            "BogoMIPS:                        4399.99\n",
            "Hypervisor vendor:               KVM\n",
            "Virtualization type:             full\n",
            "L1d cache:                       32 KiB\n",
            "L1i cache:                       32 KiB\n",
            "L2 cache:                        256 KiB\n",
            "L3 cache:                        55 MiB\n",
            "NUMA node0 CPU(s):               0,1\n",
            "Vulnerability Itlb multihit:     Not affected\n",
            "Vulnerability L1tf:              Mitigation; PTE Inversion\n",
            "Vulnerability Mds:               Vulnerable; SMT Host state unknown\n",
            "Vulnerability Meltdown:          Vulnerable\n",
            "Vulnerability Mmio stale data:   Vulnerable\n",
            "Vulnerability Retbleed:          Vulnerable\n",
            "Vulnerability Spec store bypass: Vulnerable\n",
            "Vulnerability Spectre v1:        Vulnerable: __user pointer sanitization and use\n",
            "                                 rcopy barriers only; no swapgs barriers\n",
            "Vulnerability Spectre v2:        Vulnerable, IBPB: disabled, STIBP: disabled, PB\n",
            "                                 RSB-eIBRS: Not affected\n",
            "Vulnerability Srbds:             Not affected\n",
            "Vulnerability Tsx async abort:   Vulnerable\n",
            "Flags:                           fpu vme de pse tsc msr pae mce cx8 apic sep mtr\n",
            "                                 r pge mca cmov pat pse36 clflush mmx fxsr sse s\n",
            "                                 se2 ss ht syscall nx pdpe1gb rdtscp lm constant\n",
            "                                 _tsc rep_good nopl xtopology nonstop_tsc cpuid \n",
            "                                 tsc_known_freq pni pclmulqdq ssse3 fma cx16 pci\n",
            "                                 d sse4_1 sse4_2 x2apic movbe popcnt aes xsave a\n",
            "                                 vx f16c rdrand hypervisor lahf_lm abm 3dnowpref\n",
            "                                 etch invpcid_single ssbd ibrs ibpb stibp fsgsba\n",
            "                                 se tsc_adjust bmi1 hle avx2 smep bmi2 erms invp\n",
            "                                 cid rtm rdseed adx smap xsaveopt arat md_clear \n",
            "                                 arch_capabilities\n"
          ]
        }
      ],
      "source": [
        "!lscpu"
      ]
    },
    {
      "cell_type": "markdown",
      "metadata": {
        "id": "OJbJc9AReGA0"
      },
      "source": [
        "**The Intel® Distribution of Modin:-**It is  used to process and study the data first. With support for datasets from 1 MB to 1 TB+, the Intel® Distribution of Modin is a distributed DataFrame library created to expand your pandas process naturally with the size of your dataset. One core is used at a time with pandas. Modin's Dask* engine, on the other hand, utilises every available core, enabling you to work with very big datasets at significantly faster rates. Use the following code to use Modin with the Dask engine:"
      ]
    },
    {
      "cell_type": "code",
      "execution_count": 3,
      "metadata": {
        "id": "EazW594keEPP"
      },
      "outputs": [],
      "source": [
        "import modin.pandas as pd\n",
        "from modin.config import Engine\n",
        "Engine.put(\"dask\") "
      ]
    },
    {
      "cell_type": "code",
      "execution_count": 4,
      "metadata": {
        "id": "2y_KgTxQeJt2"
      },
      "outputs": [],
      "source": [
        "import os\n",
        "import daal4py as d4p\n",
        "from xgboost import XGBClassifier\n",
        "import time\n",
        "import warnings\n",
        "import pandas\n",
        "import numpy as np\n",
        "import seaborn as sns\n",
        "import matplotlib.pyplot as plt\n",
        "import matplotlib.colors\n",
        "import plotly.io as pio\n",
        "import plotly.express as px\n",
        "import plotly.graph_objects as go\n",
        "from plotly.subplots import make_subplots"
      ]
    },
    {
      "cell_type": "code",
      "source": [
        "warnings.filterwarnings('ignore')\n",
        "pio.renderers.default='notebook' \n",
        "intel_pal, color=['#0071C5','#FCBB13'], ['#7AB5E1','#FCE7B2']\n",
        "temp=dict(layout=go.Layout(font=dict(family=\"Franklin Gothic\", size=12), \n",
        "                           height=500, width=1000))"
      ],
      "metadata": {
        "id": "5K7nclrrQPof"
      },
      "execution_count": 5,
      "outputs": []
    },
    {
      "cell_type": "markdown",
      "source": [
        "**Dataset Description:**-The dataset was downloaded from Kaggle(InsuranceFraud.csv).https://www.kaggle.com/datasets/amanindiamuz/financial-dataset-for-fraud-detection-in-a-comapny  For further reference of the dataset visit my github"
      ],
      "metadata": {
        "id": "mnX2Q_e-6DYz"
      }
    },
    {
      "cell_type": "code",
      "execution_count": 6,
      "metadata": {
        "id": "vOdVSxWseLvN"
      },
      "outputs": [],
      "source": [
        "dataset=pd.read_csv(\"InsuranceFraud.csv\")"
      ]
    },
    {
      "cell_type": "code",
      "execution_count": 7,
      "metadata": {
        "id": "8kgusMABeQy1",
        "colab": {
          "base_uri": "https://localhost:8080/",
          "height": 206
        },
        "outputId": "05ab12a5-24ca-4fd8-b6f6-29b76d1d37e2"
      },
      "outputs": [
        {
          "output_type": "execute_result",
          "data": {
            "text/plain": [
              "   step      type    amount     nameOrig  oldbalanceOrg  newbalanceOrig  \\\n",
              "0     1   PAYMENT   9839.64  C1231006815       170136.0       160296.36   \n",
              "1     1   PAYMENT   1864.28  C1666544295        21249.0        19384.72   \n",
              "2     1  TRANSFER    181.00  C1305486145          181.0            0.00   \n",
              "3     1  CASH_OUT    181.00   C840083671          181.0            0.00   \n",
              "4     1   PAYMENT  11668.14  C2048537720        41554.0        29885.86   \n",
              "\n",
              "      nameDest  oldbalanceDest  newbalanceDest  isFraud  isFlaggedFraud  \n",
              "0  M1979787155             0.0             0.0        0               0  \n",
              "1  M2044282225             0.0             0.0        0               0  \n",
              "2   C553264065             0.0             0.0        1               0  \n",
              "3    C38997010         21182.0             0.0        1               0  \n",
              "4  M1230701703             0.0             0.0        0               0  "
            ],
            "text/html": [
              "<div>\n",
              "<style scoped>\n",
              "    .dataframe tbody tr th:only-of-type {\n",
              "        vertical-align: middle;\n",
              "    }\n",
              "\n",
              "    .dataframe tbody tr th {\n",
              "        vertical-align: top;\n",
              "    }\n",
              "\n",
              "    .dataframe thead th {\n",
              "        text-align: right;\n",
              "    }\n",
              "</style>\n",
              "<table border=\"1\" class=\"dataframe\">\n",
              "  <thead>\n",
              "    <tr style=\"text-align: right;\">\n",
              "      <th></th>\n",
              "      <th>step</th>\n",
              "      <th>type</th>\n",
              "      <th>amount</th>\n",
              "      <th>nameOrig</th>\n",
              "      <th>oldbalanceOrg</th>\n",
              "      <th>newbalanceOrig</th>\n",
              "      <th>nameDest</th>\n",
              "      <th>oldbalanceDest</th>\n",
              "      <th>newbalanceDest</th>\n",
              "      <th>isFraud</th>\n",
              "      <th>isFlaggedFraud</th>\n",
              "    </tr>\n",
              "  </thead>\n",
              "  <tbody>\n",
              "    <tr>\n",
              "      <th>0</th>\n",
              "      <td>1</td>\n",
              "      <td>PAYMENT</td>\n",
              "      <td>9839.64</td>\n",
              "      <td>C1231006815</td>\n",
              "      <td>170136.0</td>\n",
              "      <td>160296.36</td>\n",
              "      <td>M1979787155</td>\n",
              "      <td>0.0</td>\n",
              "      <td>0.0</td>\n",
              "      <td>0</td>\n",
              "      <td>0</td>\n",
              "    </tr>\n",
              "    <tr>\n",
              "      <th>1</th>\n",
              "      <td>1</td>\n",
              "      <td>PAYMENT</td>\n",
              "      <td>1864.28</td>\n",
              "      <td>C1666544295</td>\n",
              "      <td>21249.0</td>\n",
              "      <td>19384.72</td>\n",
              "      <td>M2044282225</td>\n",
              "      <td>0.0</td>\n",
              "      <td>0.0</td>\n",
              "      <td>0</td>\n",
              "      <td>0</td>\n",
              "    </tr>\n",
              "    <tr>\n",
              "      <th>2</th>\n",
              "      <td>1</td>\n",
              "      <td>TRANSFER</td>\n",
              "      <td>181.00</td>\n",
              "      <td>C1305486145</td>\n",
              "      <td>181.0</td>\n",
              "      <td>0.00</td>\n",
              "      <td>C553264065</td>\n",
              "      <td>0.0</td>\n",
              "      <td>0.0</td>\n",
              "      <td>1</td>\n",
              "      <td>0</td>\n",
              "    </tr>\n",
              "    <tr>\n",
              "      <th>3</th>\n",
              "      <td>1</td>\n",
              "      <td>CASH_OUT</td>\n",
              "      <td>181.00</td>\n",
              "      <td>C840083671</td>\n",
              "      <td>181.0</td>\n",
              "      <td>0.00</td>\n",
              "      <td>C38997010</td>\n",
              "      <td>21182.0</td>\n",
              "      <td>0.0</td>\n",
              "      <td>1</td>\n",
              "      <td>0</td>\n",
              "    </tr>\n",
              "    <tr>\n",
              "      <th>4</th>\n",
              "      <td>1</td>\n",
              "      <td>PAYMENT</td>\n",
              "      <td>11668.14</td>\n",
              "      <td>C2048537720</td>\n",
              "      <td>41554.0</td>\n",
              "      <td>29885.86</td>\n",
              "      <td>M1230701703</td>\n",
              "      <td>0.0</td>\n",
              "      <td>0.0</td>\n",
              "      <td>0</td>\n",
              "      <td>0</td>\n",
              "    </tr>\n",
              "  </tbody>\n",
              "</table>\n",
              "</div>"
            ]
          },
          "metadata": {},
          "execution_count": 7
        }
      ],
      "source": [
        "dataset.head()"
      ]
    },
    {
      "cell_type": "code",
      "execution_count": 8,
      "metadata": {
        "id": "3JSfXCd_eWZF",
        "colab": {
          "base_uri": "https://localhost:8080/",
          "height": 300
        },
        "outputId": "b9e3d448-3fe0-4fa0-aa0d-cb6ae34ff7a9"
      },
      "outputs": [
        {
          "output_type": "execute_result",
          "data": {
            "text/plain": [
              "               step        amount  oldbalanceOrg  newbalanceOrig  \\\n",
              "count  6.362620e+06  6.362620e+06   6.362620e+06    6.362620e+06   \n",
              "mean   2.433972e+02  1.798619e+05   8.338831e+05    8.551137e+05   \n",
              "std    1.423320e+02  6.038582e+05   2.888243e+06    2.924049e+06   \n",
              "min    1.000000e+00  0.000000e+00   0.000000e+00    0.000000e+00   \n",
              "25%    1.560000e+02  1.338957e+04   0.000000e+00    0.000000e+00   \n",
              "50%    2.390000e+02  7.487194e+04   1.420800e+04    0.000000e+00   \n",
              "75%    3.350000e+02  2.087215e+05   1.073152e+05    1.442584e+05   \n",
              "max    7.430000e+02  9.244552e+07   5.958504e+07    4.958504e+07   \n",
              "\n",
              "       oldbalanceDest  newbalanceDest       isFraud  isFlaggedFraud  \n",
              "count    6.362620e+06    6.362620e+06  6.362620e+06    6.362620e+06  \n",
              "mean     1.100702e+06    1.224996e+06  1.290820e-03    2.514687e-06  \n",
              "std      3.399180e+06    3.674129e+06  3.590480e-02    1.585775e-03  \n",
              "min      0.000000e+00    0.000000e+00  0.000000e+00    0.000000e+00  \n",
              "25%      0.000000e+00    0.000000e+00  0.000000e+00    0.000000e+00  \n",
              "50%      1.327057e+05    2.146614e+05  0.000000e+00    0.000000e+00  \n",
              "75%      9.430367e+05    1.111909e+06  0.000000e+00    0.000000e+00  \n",
              "max      3.560159e+08    3.561793e+08  1.000000e+00    1.000000e+00  "
            ],
            "text/html": [
              "<div>\n",
              "<style scoped>\n",
              "    .dataframe tbody tr th:only-of-type {\n",
              "        vertical-align: middle;\n",
              "    }\n",
              "\n",
              "    .dataframe tbody tr th {\n",
              "        vertical-align: top;\n",
              "    }\n",
              "\n",
              "    .dataframe thead th {\n",
              "        text-align: right;\n",
              "    }\n",
              "</style>\n",
              "<table border=\"1\" class=\"dataframe\">\n",
              "  <thead>\n",
              "    <tr style=\"text-align: right;\">\n",
              "      <th></th>\n",
              "      <th>step</th>\n",
              "      <th>amount</th>\n",
              "      <th>oldbalanceOrg</th>\n",
              "      <th>newbalanceOrig</th>\n",
              "      <th>oldbalanceDest</th>\n",
              "      <th>newbalanceDest</th>\n",
              "      <th>isFraud</th>\n",
              "      <th>isFlaggedFraud</th>\n",
              "    </tr>\n",
              "  </thead>\n",
              "  <tbody>\n",
              "    <tr>\n",
              "      <th>count</th>\n",
              "      <td>6.362620e+06</td>\n",
              "      <td>6.362620e+06</td>\n",
              "      <td>6.362620e+06</td>\n",
              "      <td>6.362620e+06</td>\n",
              "      <td>6.362620e+06</td>\n",
              "      <td>6.362620e+06</td>\n",
              "      <td>6.362620e+06</td>\n",
              "      <td>6.362620e+06</td>\n",
              "    </tr>\n",
              "    <tr>\n",
              "      <th>mean</th>\n",
              "      <td>2.433972e+02</td>\n",
              "      <td>1.798619e+05</td>\n",
              "      <td>8.338831e+05</td>\n",
              "      <td>8.551137e+05</td>\n",
              "      <td>1.100702e+06</td>\n",
              "      <td>1.224996e+06</td>\n",
              "      <td>1.290820e-03</td>\n",
              "      <td>2.514687e-06</td>\n",
              "    </tr>\n",
              "    <tr>\n",
              "      <th>std</th>\n",
              "      <td>1.423320e+02</td>\n",
              "      <td>6.038582e+05</td>\n",
              "      <td>2.888243e+06</td>\n",
              "      <td>2.924049e+06</td>\n",
              "      <td>3.399180e+06</td>\n",
              "      <td>3.674129e+06</td>\n",
              "      <td>3.590480e-02</td>\n",
              "      <td>1.585775e-03</td>\n",
              "    </tr>\n",
              "    <tr>\n",
              "      <th>min</th>\n",
              "      <td>1.000000e+00</td>\n",
              "      <td>0.000000e+00</td>\n",
              "      <td>0.000000e+00</td>\n",
              "      <td>0.000000e+00</td>\n",
              "      <td>0.000000e+00</td>\n",
              "      <td>0.000000e+00</td>\n",
              "      <td>0.000000e+00</td>\n",
              "      <td>0.000000e+00</td>\n",
              "    </tr>\n",
              "    <tr>\n",
              "      <th>25%</th>\n",
              "      <td>1.560000e+02</td>\n",
              "      <td>1.338957e+04</td>\n",
              "      <td>0.000000e+00</td>\n",
              "      <td>0.000000e+00</td>\n",
              "      <td>0.000000e+00</td>\n",
              "      <td>0.000000e+00</td>\n",
              "      <td>0.000000e+00</td>\n",
              "      <td>0.000000e+00</td>\n",
              "    </tr>\n",
              "    <tr>\n",
              "      <th>50%</th>\n",
              "      <td>2.390000e+02</td>\n",
              "      <td>7.487194e+04</td>\n",
              "      <td>1.420800e+04</td>\n",
              "      <td>0.000000e+00</td>\n",
              "      <td>1.327057e+05</td>\n",
              "      <td>2.146614e+05</td>\n",
              "      <td>0.000000e+00</td>\n",
              "      <td>0.000000e+00</td>\n",
              "    </tr>\n",
              "    <tr>\n",
              "      <th>75%</th>\n",
              "      <td>3.350000e+02</td>\n",
              "      <td>2.087215e+05</td>\n",
              "      <td>1.073152e+05</td>\n",
              "      <td>1.442584e+05</td>\n",
              "      <td>9.430367e+05</td>\n",
              "      <td>1.111909e+06</td>\n",
              "      <td>0.000000e+00</td>\n",
              "      <td>0.000000e+00</td>\n",
              "    </tr>\n",
              "    <tr>\n",
              "      <th>max</th>\n",
              "      <td>7.430000e+02</td>\n",
              "      <td>9.244552e+07</td>\n",
              "      <td>5.958504e+07</td>\n",
              "      <td>4.958504e+07</td>\n",
              "      <td>3.560159e+08</td>\n",
              "      <td>3.561793e+08</td>\n",
              "      <td>1.000000e+00</td>\n",
              "      <td>1.000000e+00</td>\n",
              "    </tr>\n",
              "  </tbody>\n",
              "</table>\n",
              "</div>"
            ]
          },
          "metadata": {},
          "execution_count": 8
        }
      ],
      "source": [
        "dataset.describe()"
      ]
    },
    {
      "cell_type": "markdown",
      "source": [
        "**Exploratory data Analysis**"
      ],
      "metadata": {
        "id": "LG-5Qen0Pl0x"
      }
    },
    {
      "cell_type": "code",
      "execution_count": 9,
      "metadata": {
        "id": "zsCEcqAveWbo",
        "colab": {
          "base_uri": "https://localhost:8080/"
        },
        "outputId": "fcfa9d32-3532-4cae-c94c-20c705b9829c"
      },
      "outputs": [
        {
          "output_type": "execute_result",
          "data": {
            "text/plain": [
              "0    6354407\n",
              "1       8213\n",
              "Name: isFraud, dtype: int64"
            ]
          },
          "metadata": {},
          "execution_count": 9
        }
      ],
      "source": [
        "#checking how many frauds are there\n",
        "dataset['isFraud'].value_counts()"
      ]
    },
    {
      "cell_type": "code",
      "execution_count": 10,
      "metadata": {
        "id": "jCg2598HeWeD",
        "colab": {
          "base_uri": "https://localhost:8080/",
          "height": 596
        },
        "outputId": "c9a8e4ae-f57d-4218-fbbb-7778f73f01d9"
      },
      "outputs": [
        {
          "output_type": "display_data",
          "data": {
            "text/plain": [
              "<Figure size 720x720 with 1 Axes>"
            ],
            "image/png": "[encoded data removed]"
          },
          "metadata": {}
        }
      ],
      "source": [
        "labels = ['Cash-out', 'Payment', 'Cash-in', 'Transfer', 'Debit']\n",
        "size = [2237500, 2151495, 1399284, 532909, 41432]\n",
        "colors = ['black', 'orange', 'blue', 'red', 'yellow']\n",
        "explode = [0.1, 0.1, 0.1, 0.1, 0.1]\n",
        "\n",
        "plt.rcParams['figure.figsize'] = (10, 10)\n",
        "plt.pie(size, colors = colors, explode = explode, labels = labels, shadow = True)\n",
        "plt.title('Different types of money transactions', fontsize = 20)\n",
        "plt.axis('off')\n",
        "plt.legend()\n",
        "plt.show()"
      ]
    },
    {
      "cell_type": "code",
      "execution_count": 11,
      "metadata": {
        "id": "U0qw7s9ueWgq",
        "colab": {
          "base_uri": "https://localhost:8080/"
        },
        "outputId": "6f7071a1-5426-4cc7-bfdc-77d502eeca33"
      },
      "outputs": [
        {
          "output_type": "stream",
          "name": "stdout",
          "text": [
            "The no. of different steps involved in transactions are : 428\n"
          ]
        }
      ],
      "source": [
        "# checking the different types of steps involved in transactions\n",
        "\n",
        "x = dataset['step'].value_counts().nunique()\n",
        "\n",
        "# printing the result\n",
        "print(\"The no. of different steps involved in transactions are :\", x)\n",
        "     "
      ]
    },
    {
      "cell_type": "markdown",
      "source": [
        "**Normalization of the dataset**"
      ],
      "metadata": {
        "id": "Ec0DIskXPdC4"
      }
    },
    {
      "cell_type": "code",
      "execution_count": 12,
      "metadata": {
        "id": "jtXbnBCmeWjD",
        "colab": {
          "base_uri": "https://localhost:8080/",
          "height": 463
        },
        "outputId": "48863832-1641-49ea-a929-b92b6c766f8f"
      },
      "outputs": [
        {
          "output_type": "display_data",
          "data": {
            "text/plain": [
              "<Figure size 1008x504 with 1 Axes>"
            ],
            "image/png": "[encoded data removed]"
          },
          "metadata": {
            "needs_background": "light"
          }
        }
      ],
      "source": [
        "# setting the size of the figure\n",
        "plt.rcParams['figure.figsize'] =(14, 7)\n",
        "\n",
        "# importing norm\n",
        "from scipy.stats import norm\n",
        "\n",
        "sns.distplot(dataset.step, fit = norm, kde = False)\n",
        "plt.title('Distribution Plot for steps', fontsize = 20)\n",
        "plt.xlabel('Step', fontsize = 10)\n",
        "plt.show()"
      ]
    },
    {
      "cell_type": "code",
      "execution_count": 13,
      "metadata": {
        "id": "PaZSgIGCeWlo",
        "colab": {
          "base_uri": "https://localhost:8080/",
          "height": 513
        },
        "outputId": "12b61009-60c2-48c6-9b0f-a943f66939be"
      },
      "outputs": [
        {
          "output_type": "display_data",
          "data": {
            "text/plain": [
              "<Figure size 720x504 with 1 Axes>"
            ],
            "image/png": "[encoded data removed]"
          },
          "metadata": {
            "needs_background": "light"
          }
        }
      ],
      "source": [
        "# checking the most common values of amounts transationed\n",
        "\n",
        "plt.rcParams['figure.figsize'] = (10, 7)\n",
        "\n",
        "dataset['amount'].value_counts().head(15).plot.bar()\n",
        "plt.title('15 Most Common Transaction amounts', fontsize = 20)\n",
        "plt.xlabel('Amounts')\n",
        "plt.ylabel('count')\n",
        "plt.show()"
      ]
    },
    {
      "cell_type": "code",
      "execution_count": 14,
      "metadata": {
        "id": "qmWay2XMeWoP",
        "colab": {
          "base_uri": "https://localhost:8080/",
          "height": 520
        },
        "outputId": "4fe593f3-46ac-41c0-bef3-8be81b154a1e"
      },
      "outputs": [
        {
          "output_type": "display_data",
          "data": {
            "text/plain": [
              "<Figure size 1368x504 with 1 Axes>"
            ],
            "image/png": "[encoded data removed]"
          },
          "metadata": {
            "needs_background": "light"
          }
        }
      ],
      "source": [
        "# checking the least common values of amounts transationed\n",
        "\n",
        "plt.rcParams['figure.figsize'] = (19, 7)\n",
        "\n",
        "dataset['amount'].value_counts().tail(50).plot.bar()\n",
        "plt.title('50 Least Common Transaction amounts', fontsize = 20)\n",
        "plt.xlabel('Amounts')\n",
        "plt.ylabel('count')\n",
        "plt.show()"
      ]
    },
    {
      "cell_type": "code",
      "execution_count": 15,
      "metadata": {
        "id": "rK2CZnEueWqV",
        "colab": {
          "base_uri": "https://localhost:8080/"
        },
        "outputId": "59b10e9e-c6b6-4e2a-94b5-4cd1d6843d7b"
      },
      "outputs": [
        {
          "output_type": "stream",
          "name": "stdout",
          "text": [
            "The Types of fraudulent transactions are ['TRANSFER', 'CASH_OUT']\n"
          ]
        }
      ],
      "source": [
        "# finding  out the types of fraudulent transaction types out of all the transaction modes.\n",
        "\n",
        "print('The Types of fraudulent transactions are {}'.format(list(dataset.loc[dataset.isFraud == 1].type.drop_duplicates().values)) )\n",
        "     "
      ]
    },
    {
      "cell_type": "code",
      "execution_count": 16,
      "metadata": {
        "id": "xm7fDkF5eWtH",
        "colab": {
          "base_uri": "https://localhost:8080/"
        },
        "outputId": "efade4f4-2e75-4f77-9add-5386ddf04a1c"
      },
      "outputs": [
        {
          "output_type": "stream",
          "name": "stdout",
          "text": [
            "The number of fraudulent TRANSFERS = 4097\n",
            "The number of fraudulent CASH_OUTS = 4116\n"
          ]
        }
      ],
      "source": [
        "\n",
        "# figuring out the fraud transfer and fraud cash outs\n",
        "dfFraudTransfer = dataset.loc[(dataset.isFraud == 1) & (dataset.type == 'TRANSFER')]\n",
        "dfFraudCashout = dataset.loc[(dataset.isFraud == 1) & (dataset.type == 'CASH_OUT')]\n",
        "\n",
        "\n",
        "#printing the number of fraudulent transfers ans cash outs\n",
        "print ('The number of fraudulent TRANSFERS = {}'.format(len(dfFraudTransfer)))\n",
        "print ('The number of fraudulent CASH_OUTS = {}'.format(len(dfFraudCashout)))"
      ]
    },
    {
      "cell_type": "code",
      "execution_count": 17,
      "metadata": {
        "id": "a6QR7dIIeWvo",
        "colab": {
          "base_uri": "https://localhost:8080/"
        },
        "outputId": "c2838795-1adf-4c2a-9838-3d23861398f1"
      },
      "outputs": [
        {
          "output_type": "stream",
          "name": "stdout",
          "text": [
            "The Type of Transaction in which IsFlagged is set : ['TRANSFER']\n"
          ]
        }
      ],
      "source": [
        "#finding out the transactions which are flagged to be fraud\n",
        "\n",
        "print(\"The Type of Transaction in which IsFlagged is set :\", dataset.loc[dataset.isFlaggedFraud == 1].type.drop_duplicates().values)"
      ]
    },
    {
      "cell_type": "code",
      "execution_count": 18,
      "metadata": {
        "id": "Nfbo2sfBerIO",
        "colab": {
          "base_uri": "https://localhost:8080/"
        },
        "outputId": "c9fd596f-924b-4525-f70b-39e031e618d7"
      },
      "outputs": [
        {
          "output_type": "stream",
          "name": "stdout",
          "text": [
            "The no. of Flagged Fraudulent Transactions : 16\n",
            "Minimum Transaction : 353874.22\n",
            "Maximum Transaction : 10000000.0\n"
          ]
        }
      ],
      "source": [
        "# figuringing out the no. of flagged fraudulent transactions\n",
        "FlaggedFraud = dataset.loc[(dataset.isFlaggedFraud == 1) & (dataset.type == 'TRANSFER')]\n",
        "print(\"The no. of Flagged Fraudulent Transactions :\", len(FlaggedFraud))\n",
        "\n",
        "# printing the minimum and maximum transactions done when FlaggedFraud is set\n",
        "# the Transaction mode being Transfer\n",
        "print(\"Minimum Transaction :\", dataset.loc[dataset.isFlaggedFraud == 1].amount.min())\n",
        "print(\"Maximum Transaction :\", dataset.loc[dataset.isFlaggedFraud == 1].amount.max())\n"
      ]
    },
    {
      "cell_type": "code",
      "execution_count": 19,
      "metadata": {
        "id": "j71GKsrcerK1",
        "colab": {
          "base_uri": "https://localhost:8080/"
        },
        "outputId": "cabe8540-b55c-4768-90fb-729bed7ad07d"
      },
      "outputs": [
        {
          "output_type": "stream",
          "name": "stdout",
          "text": [
            "Figuring out the no. of transactions where old balance dest. and new balance dest. are 0 being FlaggedFraud :          step      type      amount     nameOrig  oldbalanceOrg  \\\n",
            "0           1   PAYMENT     9839.64  C1231006815      170136.00   \n",
            "1           1   PAYMENT     1864.28  C1666544295       21249.00   \n",
            "2           1  TRANSFER      181.00  C1305486145         181.00   \n",
            "4           1   PAYMENT    11668.14  C2048537720       41554.00   \n",
            "5           1   PAYMENT     7817.71    C90045638       53860.00   \n",
            "...       ...       ...         ...          ...            ...   \n",
            "6362610   742  TRANSFER    63416.99   C778071008       63416.99   \n",
            "6362612   743  TRANSFER  1258818.82  C1531301470     1258818.82   \n",
            "6362614   743  TRANSFER   339682.13  C2013999242      339682.13   \n",
            "6362616   743  TRANSFER  6311409.28  C1529008245     6311409.28   \n",
            "6362618   743  TRANSFER   850002.52  C1685995037      850002.52   \n",
            "\n",
            "         newbalanceOrig     nameDest  oldbalanceDest  newbalanceDest  isFraud  \\\n",
            "0             160296.36  M1979787155             0.0             0.0        0   \n",
            "1              19384.72  M2044282225             0.0             0.0        0   \n",
            "2                  0.00   C553264065             0.0             0.0        1   \n",
            "4              29885.86  M1230701703             0.0             0.0        0   \n",
            "5              46042.29   M573487274             0.0             0.0        0   \n",
            "...                 ...          ...             ...             ...      ...   \n",
            "6362610            0.00  C1812552860             0.0             0.0        1   \n",
            "6362612            0.00  C1470998563             0.0             0.0        1   \n",
            "6362614            0.00  C1850423904             0.0             0.0        1   \n",
            "6362616            0.00  C1881841831             0.0             0.0        1   \n",
            "6362618            0.00  C2080388513             0.0             0.0        1   \n",
            "\n",
            "         isFlaggedFraud  \n",
            "0                     0  \n",
            "1                     0  \n",
            "2                     0  \n",
            "4                     0  \n",
            "5                     0  \n",
            "...                 ...  \n",
            "6362610               0  \n",
            "6362612               0  \n",
            "6362614               0  \n",
            "6362616               0  \n",
            "6362618               0  \n",
            "\n",
            "[2317266 rows x 11 columns]\n"
          ]
        }
      ],
      "source": [
        "# Figuring out the transactions where old balance dest. and new balance dest. are 0 being FlaggedFraud\n",
        "\n",
        "x = dataset.loc[(dataset.isFlaggedFraud == 0) & (dataset.oldbalanceDest == 0) & (dataset.newbalanceDest == 0)]\n",
        "print(\"Figuring out the no. of transactions where old balance dest. and new balance dest. are 0 being FlaggedFraud :\", x)"
      ]
    },
    {
      "cell_type": "markdown",
      "metadata": {
        "id": "lOhD8cW6e1oL"
      },
      "source": [
        "**Dataset where only Transfer Transactions are mentioned**"
      ]
    },
    {
      "cell_type": "code",
      "execution_count": 20,
      "metadata": {
        "id": "3OyeASeYerNk",
        "colab": {
          "base_uri": "https://localhost:8080/",
          "height": 383
        },
        "outputId": "2acf2452-fc98-4a73-8be6-a3a378e4a7c9"
      },
      "outputs": [
        {
          "output_type": "execute_result",
          "data": {
            "text/plain": [
              "    step      type     amount     nameOrig  oldbalanceOrg  newbalanceOrig  \\\n",
              "2      1  TRANSFER     181.00  C1305486145         181.00             0.0   \n",
              "19     1  TRANSFER  215310.30  C1670993182         705.00             0.0   \n",
              "24     1  TRANSFER  311685.89  C1984094095       10835.00             0.0   \n",
              "58     1  TRANSFER   62610.80  C1976401987       79114.00         16503.2   \n",
              "78     1  TRANSFER   42712.39   C283039401       10363.39             0.0   \n",
              "79     1  TRANSFER   77957.68   C207471778           0.00             0.0   \n",
              "80     1  TRANSFER   17231.46  C1243171897           0.00             0.0   \n",
              "81     1  TRANSFER   78766.03  C1376151044           0.00             0.0   \n",
              "82     1  TRANSFER  224606.64   C873175411           0.00             0.0   \n",
              "83     1  TRANSFER  125872.53  C1443967876           0.00             0.0   \n",
              "\n",
              "       nameDest  oldbalanceDest  newbalanceDest  isFraud  isFlaggedFraud  \n",
              "2    C553264065            0.00            0.00        1               0  \n",
              "19  C1100439041        22425.00            0.00        0               0  \n",
              "24   C932583850         6267.00      2719172.89        0               0  \n",
              "58  C1937962514          517.00         8383.29        0               0  \n",
              "78  C1330106945        57901.66        24044.18        0               0  \n",
              "79  C1761291320        94900.00        22233.65        0               0  \n",
              "80   C783286238        24672.00            0.00        0               0  \n",
              "81  C1749186397       103772.00       277515.05        0               0  \n",
              "82   C766572210       354678.92            0.00        0               0  \n",
              "83   C392292416       348512.00      3420103.09        0               0  "
            ],
            "text/html": [
              "<div>\n",
              "<style scoped>\n",
              "    .dataframe tbody tr th:only-of-type {\n",
              "        vertical-align: middle;\n",
              "    }\n",
              "\n",
              "    .dataframe tbody tr th {\n",
              "        vertical-align: top;\n",
              "    }\n",
              "\n",
              "    .dataframe thead th {\n",
              "        text-align: right;\n",
              "    }\n",
              "</style>\n",
              "<table border=\"1\" class=\"dataframe\">\n",
              "  <thead>\n",
              "    <tr style=\"text-align: right;\">\n",
              "      <th></th>\n",
              "      <th>step</th>\n",
              "      <th>type</th>\n",
              "      <th>amount</th>\n",
              "      <th>nameOrig</th>\n",
              "      <th>oldbalanceOrg</th>\n",
              "      <th>newbalanceOrig</th>\n",
              "      <th>nameDest</th>\n",
              "      <th>oldbalanceDest</th>\n",
              "      <th>newbalanceDest</th>\n",
              "      <th>isFraud</th>\n",
              "      <th>isFlaggedFraud</th>\n",
              "    </tr>\n",
              "  </thead>\n",
              "  <tbody>\n",
              "    <tr>\n",
              "      <th>2</th>\n",
              "      <td>1</td>\n",
              "      <td>TRANSFER</td>\n",
              "      <td>181.00</td>\n",
              "      <td>C1305486145</td>\n",
              "      <td>181.00</td>\n",
              "      <td>0.0</td>\n",
              "      <td>C553264065</td>\n",
              "      <td>0.00</td>\n",
              "      <td>0.00</td>\n",
              "      <td>1</td>\n",
              "      <td>0</td>\n",
              "    </tr>\n",
              "    <tr>\n",
              "      <th>19</th>\n",
              "      <td>1</td>\n",
              "      <td>TRANSFER</td>\n",
              "      <td>215310.30</td>\n",
              "      <td>C1670993182</td>\n",
              "      <td>705.00</td>\n",
              "      <td>0.0</td>\n",
              "      <td>C1100439041</td>\n",
              "      <td>22425.00</td>\n",
              "      <td>0.00</td>\n",
              "      <td>0</td>\n",
              "      <td>0</td>\n",
              "    </tr>\n",
              "    <tr>\n",
              "      <th>24</th>\n",
              "      <td>1</td>\n",
              "      <td>TRANSFER</td>\n",
              "      <td>311685.89</td>\n",
              "      <td>C1984094095</td>\n",
              "      <td>10835.00</td>\n",
              "      <td>0.0</td>\n",
              "      <td>C932583850</td>\n",
              "      <td>6267.00</td>\n",
              "      <td>2719172.89</td>\n",
              "      <td>0</td>\n",
              "      <td>0</td>\n",
              "    </tr>\n",
              "    <tr>\n",
              "      <th>58</th>\n",
              "      <td>1</td>\n",
              "      <td>TRANSFER</td>\n",
              "      <td>62610.80</td>\n",
              "      <td>C1976401987</td>\n",
              "      <td>79114.00</td>\n",
              "      <td>16503.2</td>\n",
              "      <td>C1937962514</td>\n",
              "      <td>517.00</td>\n",
              "      <td>8383.29</td>\n",
              "      <td>0</td>\n",
              "      <td>0</td>\n",
              "    </tr>\n",
              "    <tr>\n",
              "      <th>78</th>\n",
              "      <td>1</td>\n",
              "      <td>TRANSFER</td>\n",
              "      <td>42712.39</td>\n",
              "      <td>C283039401</td>\n",
              "      <td>10363.39</td>\n",
              "      <td>0.0</td>\n",
              "      <td>C1330106945</td>\n",
              "      <td>57901.66</td>\n",
              "      <td>24044.18</td>\n",
              "      <td>0</td>\n",
              "      <td>0</td>\n",
              "    </tr>\n",
              "    <tr>\n",
              "      <th>79</th>\n",
              "      <td>1</td>\n",
              "      <td>TRANSFER</td>\n",
              "      <td>77957.68</td>\n",
              "      <td>C207471778</td>\n",
              "      <td>0.00</td>\n",
              "      <td>0.0</td>\n",
              "      <td>C1761291320</td>\n",
              "      <td>94900.00</td>\n",
              "      <td>22233.65</td>\n",
              "      <td>0</td>\n",
              "      <td>0</td>\n",
              "    </tr>\n",
              "    <tr>\n",
              "      <th>80</th>\n",
              "      <td>1</td>\n",
              "      <td>TRANSFER</td>\n",
              "      <td>17231.46</td>\n",
              "      <td>C1243171897</td>\n",
              "      <td>0.00</td>\n",
              "      <td>0.0</td>\n",
              "      <td>C783286238</td>\n",
              "      <td>24672.00</td>\n",
              "      <td>0.00</td>\n",
              "      <td>0</td>\n",
              "      <td>0</td>\n",
              "    </tr>\n",
              "    <tr>\n",
              "      <th>81</th>\n",
              "      <td>1</td>\n",
              "      <td>TRANSFER</td>\n",
              "      <td>78766.03</td>\n",
              "      <td>C1376151044</td>\n",
              "      <td>0.00</td>\n",
              "      <td>0.0</td>\n",
              "      <td>C1749186397</td>\n",
              "      <td>103772.00</td>\n",
              "      <td>277515.05</td>\n",
              "      <td>0</td>\n",
              "      <td>0</td>\n",
              "    </tr>\n",
              "    <tr>\n",
              "      <th>82</th>\n",
              "      <td>1</td>\n",
              "      <td>TRANSFER</td>\n",
              "      <td>224606.64</td>\n",
              "      <td>C873175411</td>\n",
              "      <td>0.00</td>\n",
              "      <td>0.0</td>\n",
              "      <td>C766572210</td>\n",
              "      <td>354678.92</td>\n",
              "      <td>0.00</td>\n",
              "      <td>0</td>\n",
              "      <td>0</td>\n",
              "    </tr>\n",
              "    <tr>\n",
              "      <th>83</th>\n",
              "      <td>1</td>\n",
              "      <td>TRANSFER</td>\n",
              "      <td>125872.53</td>\n",
              "      <td>C1443967876</td>\n",
              "      <td>0.00</td>\n",
              "      <td>0.0</td>\n",
              "      <td>C392292416</td>\n",
              "      <td>348512.00</td>\n",
              "      <td>3420103.09</td>\n",
              "      <td>0</td>\n",
              "      <td>0</td>\n",
              "    </tr>\n",
              "  </tbody>\n",
              "</table>\n",
              "</div>"
            ]
          },
          "metadata": {},
          "execution_count": 20
        }
      ],
      "source": [
        "# defining a dataset containing only transfer type of transactions\n",
        "\n",
        "dataTransfer = dataset.loc[dataset['type'] == 'TRANSFER']\n",
        "\n",
        "dataTransfer = pd.DataFrame(dataTransfer)\n",
        "\n",
        "dataTransfer.head(10)"
      ]
    },
    {
      "cell_type": "markdown",
      "metadata": {
        "id": "C4QqU9ife4KE"
      },
      "source": [
        "**Minimum Original old Balance for Flagged Frauds**"
      ]
    },
    {
      "cell_type": "code",
      "execution_count": 21,
      "metadata": {
        "id": "U6-8ln55erPe",
        "colab": {
          "base_uri": "https://localhost:8080/",
          "height": 571
        },
        "outputId": "096a90b0-0280-44ce-923b-6c9f96713a62"
      },
      "outputs": [
        {
          "output_type": "execute_result",
          "data": {
            "text/plain": [
              "         step      type       amount     nameOrig  oldbalanceOrg  \\\n",
              "6205439   586  TRANSFER    353874.22  C1684585475      353874.22   \n",
              "3760288   279  TRANSFER    536624.41  C1035541766      536624.41   \n",
              "3247297   250  TRANSFER   1343002.08  C1100582606     1343002.08   \n",
              "6266413   617  TRANSFER   2542664.27   C786455622     2542664.27   \n",
              "6351225   702  TRANSFER   3171085.59  C1892216157     3171085.59   \n",
              "6296014   671  TRANSFER   3441041.46   C917414431     3441041.46   \n",
              "6168499   554  TRANSFER   3576297.10   C193696150     3576297.10   \n",
              "5563713   387  TRANSFER   4892193.09   C908544136     4892193.09   \n",
              "2736446   212  TRANSFER   4953893.08   C728984460     4953893.08   \n",
              "6362584   741  TRANSFER   5674547.89   C992223106     5674547.89   \n",
              "6281482   646  TRANSFER  10000000.00    C19004745    10399045.08   \n",
              "6281484   646  TRANSFER    399045.08   C724693370    10399045.08   \n",
              "6362460   730  TRANSFER  10000000.00  C2140038573    17316255.05   \n",
              "6362462   730  TRANSFER   7316255.05  C1869569059    17316255.05   \n",
              "5996407   425  TRANSFER  10000000.00   C689608084    19585040.37   \n",
              "5996409   425  TRANSFER   9585040.37   C452586515    19585040.37   \n",
              "\n",
              "         newbalanceOrig     nameDest  oldbalanceDest  newbalanceDest  isFraud  \\\n",
              "6205439       353874.22  C1770418982             0.0             0.0        1   \n",
              "3760288       536624.41  C1100697970             0.0             0.0        1   \n",
              "3247297      1343002.08  C1147517658             0.0             0.0        1   \n",
              "6266413      2542664.27   C661958277             0.0             0.0        1   \n",
              "6351225      3171085.59  C1308068787             0.0             0.0        1   \n",
              "6296014      3441041.46  C1082139865             0.0             0.0        1   \n",
              "6168499      3576297.10   C484597480             0.0             0.0        1   \n",
              "5563713      4892193.09   C891140444             0.0             0.0        1   \n",
              "2736446      4953893.08   C639921569             0.0             0.0        1   \n",
              "6362584      5674547.89  C1366804249             0.0             0.0        1   \n",
              "6281482     10399045.08  C1806199534             0.0             0.0        1   \n",
              "6281484     10399045.08  C1909486199             0.0             0.0        1   \n",
              "6362460     17316255.05  C1395467927             0.0             0.0        1   \n",
              "6362462     17316255.05  C1861208726             0.0             0.0        1   \n",
              "5996407     19585040.37  C1392803603             0.0             0.0        1   \n",
              "5996409     19585040.37  C1109166882             0.0             0.0        1   \n",
              "\n",
              "         isFlaggedFraud  \n",
              "6205439               1  \n",
              "3760288               1  \n",
              "3247297               1  \n",
              "6266413               1  \n",
              "6351225               1  \n",
              "6296014               1  \n",
              "6168499               1  \n",
              "5563713               1  \n",
              "2736446               1  \n",
              "6362584               1  \n",
              "6281482               1  \n",
              "6281484               1  \n",
              "6362460               1  \n",
              "6362462               1  \n",
              "5996407               1  \n",
              "5996409               1  "
            ],
            "text/html": [
              "<div>\n",
              "<style scoped>\n",
              "    .dataframe tbody tr th:only-of-type {\n",
              "        vertical-align: middle;\n",
              "    }\n",
              "\n",
              "    .dataframe tbody tr th {\n",
              "        vertical-align: top;\n",
              "    }\n",
              "\n",
              "    .dataframe thead th {\n",
              "        text-align: right;\n",
              "    }\n",
              "</style>\n",
              "<table border=\"1\" class=\"dataframe\">\n",
              "  <thead>\n",
              "    <tr style=\"text-align: right;\">\n",
              "      <th></th>\n",
              "      <th>step</th>\n",
              "      <th>type</th>\n",
              "      <th>amount</th>\n",
              "      <th>nameOrig</th>\n",
              "      <th>oldbalanceOrg</th>\n",
              "      <th>newbalanceOrig</th>\n",
              "      <th>nameDest</th>\n",
              "      <th>oldbalanceDest</th>\n",
              "      <th>newbalanceDest</th>\n",
              "      <th>isFraud</th>\n",
              "      <th>isFlaggedFraud</th>\n",
              "    </tr>\n",
              "  </thead>\n",
              "  <tbody>\n",
              "    <tr>\n",
              "      <th>6205439</th>\n",
              "      <td>586</td>\n",
              "      <td>TRANSFER</td>\n",
              "      <td>353874.22</td>\n",
              "      <td>C1684585475</td>\n",
              "      <td>353874.22</td>\n",
              "      <td>353874.22</td>\n",
              "      <td>C1770418982</td>\n",
              "      <td>0.0</td>\n",
              "      <td>0.0</td>\n",
              "      <td>1</td>\n",
              "      <td>1</td>\n",
              "    </tr>\n",
              "    <tr>\n",
              "      <th>3760288</th>\n",
              "      <td>279</td>\n",
              "      <td>TRANSFER</td>\n",
              "      <td>536624.41</td>\n",
              "      <td>C1035541766</td>\n",
              "      <td>536624.41</td>\n",
              "      <td>536624.41</td>\n",
              "      <td>C1100697970</td>\n",
              "      <td>0.0</td>\n",
              "      <td>0.0</td>\n",
              "      <td>1</td>\n",
              "      <td>1</td>\n",
              "    </tr>\n",
              "    <tr>\n",
              "      <th>3247297</th>\n",
              "      <td>250</td>\n",
              "      <td>TRANSFER</td>\n",
              "      <td>1343002.08</td>\n",
              "      <td>C1100582606</td>\n",
              "      <td>1343002.08</td>\n",
              "      <td>1343002.08</td>\n",
              "      <td>C1147517658</td>\n",
              "      <td>0.0</td>\n",
              "      <td>0.0</td>\n",
              "      <td>1</td>\n",
              "      <td>1</td>\n",
              "    </tr>\n",
              "    <tr>\n",
              "      <th>6266413</th>\n",
              "      <td>617</td>\n",
              "      <td>TRANSFER</td>\n",
              "      <td>2542664.27</td>\n",
              "      <td>C786455622</td>\n",
              "      <td>2542664.27</td>\n",
              "      <td>2542664.27</td>\n",
              "      <td>C661958277</td>\n",
              "      <td>0.0</td>\n",
              "      <td>0.0</td>\n",
              "      <td>1</td>\n",
              "      <td>1</td>\n",
              "    </tr>\n",
              "    <tr>\n",
              "      <th>6351225</th>\n",
              "      <td>702</td>\n",
              "      <td>TRANSFER</td>\n",
              "      <td>3171085.59</td>\n",
              "      <td>C1892216157</td>\n",
              "      <td>3171085.59</td>\n",
              "      <td>3171085.59</td>\n",
              "      <td>C1308068787</td>\n",
              "      <td>0.0</td>\n",
              "      <td>0.0</td>\n",
              "      <td>1</td>\n",
              "      <td>1</td>\n",
              "    </tr>\n",
              "    <tr>\n",
              "      <th>6296014</th>\n",
              "      <td>671</td>\n",
              "      <td>TRANSFER</td>\n",
              "      <td>3441041.46</td>\n",
              "      <td>C917414431</td>\n",
              "      <td>3441041.46</td>\n",
              "      <td>3441041.46</td>\n",
              "      <td>C1082139865</td>\n",
              "      <td>0.0</td>\n",
              "      <td>0.0</td>\n",
              "      <td>1</td>\n",
              "      <td>1</td>\n",
              "    </tr>\n",
              "    <tr>\n",
              "      <th>6168499</th>\n",
              "      <td>554</td>\n",
              "      <td>TRANSFER</td>\n",
              "      <td>3576297.10</td>\n",
              "      <td>C193696150</td>\n",
              "      <td>3576297.10</td>\n",
              "      <td>3576297.10</td>\n",
              "      <td>C484597480</td>\n",
              "      <td>0.0</td>\n",
              "      <td>0.0</td>\n",
              "      <td>1</td>\n",
              "      <td>1</td>\n",
              "    </tr>\n",
              "    <tr>\n",
              "      <th>5563713</th>\n",
              "      <td>387</td>\n",
              "      <td>TRANSFER</td>\n",
              "      <td>4892193.09</td>\n",
              "      <td>C908544136</td>\n",
              "      <td>4892193.09</td>\n",
              "      <td>4892193.09</td>\n",
              "      <td>C891140444</td>\n",
              "      <td>0.0</td>\n",
              "      <td>0.0</td>\n",
              "      <td>1</td>\n",
              "      <td>1</td>\n",
              "    </tr>\n",
              "    <tr>\n",
              "      <th>2736446</th>\n",
              "      <td>212</td>\n",
              "      <td>TRANSFER</td>\n",
              "      <td>4953893.08</td>\n",
              "      <td>C728984460</td>\n",
              "      <td>4953893.08</td>\n",
              "      <td>4953893.08</td>\n",
              "      <td>C639921569</td>\n",
              "      <td>0.0</td>\n",
              "      <td>0.0</td>\n",
              "      <td>1</td>\n",
              "      <td>1</td>\n",
              "    </tr>\n",
              "    <tr>\n",
              "      <th>6362584</th>\n",
              "      <td>741</td>\n",
              "      <td>TRANSFER</td>\n",
              "      <td>5674547.89</td>\n",
              "      <td>C992223106</td>\n",
              "      <td>5674547.89</td>\n",
              "      <td>5674547.89</td>\n",
              "      <td>C1366804249</td>\n",
              "      <td>0.0</td>\n",
              "      <td>0.0</td>\n",
              "      <td>1</td>\n",
              "      <td>1</td>\n",
              "    </tr>\n",
              "    <tr>\n",
              "      <th>6281482</th>\n",
              "      <td>646</td>\n",
              "      <td>TRANSFER</td>\n",
              "      <td>10000000.00</td>\n",
              "      <td>C19004745</td>\n",
              "      <td>10399045.08</td>\n",
              "      <td>10399045.08</td>\n",
              "      <td>C1806199534</td>\n",
              "      <td>0.0</td>\n",
              "      <td>0.0</td>\n",
              "      <td>1</td>\n",
              "      <td>1</td>\n",
              "    </tr>\n",
              "    <tr>\n",
              "      <th>6281484</th>\n",
              "      <td>646</td>\n",
              "      <td>TRANSFER</td>\n",
              "      <td>399045.08</td>\n",
              "      <td>C724693370</td>\n",
              "      <td>10399045.08</td>\n",
              "      <td>10399045.08</td>\n",
              "      <td>C1909486199</td>\n",
              "      <td>0.0</td>\n",
              "      <td>0.0</td>\n",
              "      <td>1</td>\n",
              "      <td>1</td>\n",
              "    </tr>\n",
              "    <tr>\n",
              "      <th>6362460</th>\n",
              "      <td>730</td>\n",
              "      <td>TRANSFER</td>\n",
              "      <td>10000000.00</td>\n",
              "      <td>C2140038573</td>\n",
              "      <td>17316255.05</td>\n",
              "      <td>17316255.05</td>\n",
              "      <td>C1395467927</td>\n",
              "      <td>0.0</td>\n",
              "      <td>0.0</td>\n",
              "      <td>1</td>\n",
              "      <td>1</td>\n",
              "    </tr>\n",
              "    <tr>\n",
              "      <th>6362462</th>\n",
              "      <td>730</td>\n",
              "      <td>TRANSFER</td>\n",
              "      <td>7316255.05</td>\n",
              "      <td>C1869569059</td>\n",
              "      <td>17316255.05</td>\n",
              "      <td>17316255.05</td>\n",
              "      <td>C1861208726</td>\n",
              "      <td>0.0</td>\n",
              "      <td>0.0</td>\n",
              "      <td>1</td>\n",
              "      <td>1</td>\n",
              "    </tr>\n",
              "    <tr>\n",
              "      <th>5996407</th>\n",
              "      <td>425</td>\n",
              "      <td>TRANSFER</td>\n",
              "      <td>10000000.00</td>\n",
              "      <td>C689608084</td>\n",
              "      <td>19585040.37</td>\n",
              "      <td>19585040.37</td>\n",
              "      <td>C1392803603</td>\n",
              "      <td>0.0</td>\n",
              "      <td>0.0</td>\n",
              "      <td>1</td>\n",
              "      <td>1</td>\n",
              "    </tr>\n",
              "    <tr>\n",
              "      <th>5996409</th>\n",
              "      <td>425</td>\n",
              "      <td>TRANSFER</td>\n",
              "      <td>9585040.37</td>\n",
              "      <td>C452586515</td>\n",
              "      <td>19585040.37</td>\n",
              "      <td>19585040.37</td>\n",
              "      <td>C1109166882</td>\n",
              "      <td>0.0</td>\n",
              "      <td>0.0</td>\n",
              "      <td>1</td>\n",
              "      <td>1</td>\n",
              "    </tr>\n",
              "  </tbody>\n",
              "</table>\n",
              "</div>"
            ]
          },
          "metadata": {},
          "execution_count": 21
        }
      ],
      "source": [
        "dataTransfer.loc[(dataTransfer.isFlaggedFraud == 1) & (dataTransfer.oldbalanceOrg == dataTransfer.newbalanceOrig)].sort_values(by = 'oldbalanceOrg')"
      ]
    },
    {
      "cell_type": "markdown",
      "metadata": {
        "id": "woJvjFBhfBwk"
      },
      "source": [
        "**Maximum Original old Balance for Flagged Frauds**"
      ]
    },
    {
      "cell_type": "code",
      "execution_count": 22,
      "metadata": {
        "id": "hZS3kQcze_nt",
        "colab": {
          "base_uri": "https://localhost:8080/",
          "height": 571
        },
        "outputId": "5d601afa-46a9-4187-ec1e-1cf02a511fc5"
      },
      "outputs": [
        {
          "output_type": "execute_result",
          "data": {
            "text/plain": [
              "         step      type       amount     nameOrig  oldbalanceOrg  \\\n",
              "6205439   586  TRANSFER    353874.22  C1684585475      353874.22   \n",
              "3760288   279  TRANSFER    536624.41  C1035541766      536624.41   \n",
              "3247297   250  TRANSFER   1343002.08  C1100582606     1343002.08   \n",
              "6266413   617  TRANSFER   2542664.27   C786455622     2542664.27   \n",
              "6351225   702  TRANSFER   3171085.59  C1892216157     3171085.59   \n",
              "6296014   671  TRANSFER   3441041.46   C917414431     3441041.46   \n",
              "6168499   554  TRANSFER   3576297.10   C193696150     3576297.10   \n",
              "5563713   387  TRANSFER   4892193.09   C908544136     4892193.09   \n",
              "2736446   212  TRANSFER   4953893.08   C728984460     4953893.08   \n",
              "6362584   741  TRANSFER   5674547.89   C992223106     5674547.89   \n",
              "6281482   646  TRANSFER  10000000.00    C19004745    10399045.08   \n",
              "6281484   646  TRANSFER    399045.08   C724693370    10399045.08   \n",
              "6362460   730  TRANSFER  10000000.00  C2140038573    17316255.05   \n",
              "6362462   730  TRANSFER   7316255.05  C1869569059    17316255.05   \n",
              "5996407   425  TRANSFER  10000000.00   C689608084    19585040.37   \n",
              "5996409   425  TRANSFER   9585040.37   C452586515    19585040.37   \n",
              "\n",
              "         newbalanceOrig     nameDest  oldbalanceDest  newbalanceDest  isFraud  \\\n",
              "6205439       353874.22  C1770418982             0.0             0.0        1   \n",
              "3760288       536624.41  C1100697970             0.0             0.0        1   \n",
              "3247297      1343002.08  C1147517658             0.0             0.0        1   \n",
              "6266413      2542664.27   C661958277             0.0             0.0        1   \n",
              "6351225      3171085.59  C1308068787             0.0             0.0        1   \n",
              "6296014      3441041.46  C1082139865             0.0             0.0        1   \n",
              "6168499      3576297.10   C484597480             0.0             0.0        1   \n",
              "5563713      4892193.09   C891140444             0.0             0.0        1   \n",
              "2736446      4953893.08   C639921569             0.0             0.0        1   \n",
              "6362584      5674547.89  C1366804249             0.0             0.0        1   \n",
              "6281482     10399045.08  C1806199534             0.0             0.0        1   \n",
              "6281484     10399045.08  C1909486199             0.0             0.0        1   \n",
              "6362460     17316255.05  C1395467927             0.0             0.0        1   \n",
              "6362462     17316255.05  C1861208726             0.0             0.0        1   \n",
              "5996407     19585040.37  C1392803603             0.0             0.0        1   \n",
              "5996409     19585040.37  C1109166882             0.0             0.0        1   \n",
              "\n",
              "         isFlaggedFraud  \n",
              "6205439               1  \n",
              "3760288               1  \n",
              "3247297               1  \n",
              "6266413               1  \n",
              "6351225               1  \n",
              "6296014               1  \n",
              "6168499               1  \n",
              "5563713               1  \n",
              "2736446               1  \n",
              "6362584               1  \n",
              "6281482               1  \n",
              "6281484               1  \n",
              "6362460               1  \n",
              "6362462               1  \n",
              "5996407               1  \n",
              "5996409               1  "
            ],
            "text/html": [
              "<div>\n",
              "<style scoped>\n",
              "    .dataframe tbody tr th:only-of-type {\n",
              "        vertical-align: middle;\n",
              "    }\n",
              "\n",
              "    .dataframe tbody tr th {\n",
              "        vertical-align: top;\n",
              "    }\n",
              "\n",
              "    .dataframe thead th {\n",
              "        text-align: right;\n",
              "    }\n",
              "</style>\n",
              "<table border=\"1\" class=\"dataframe\">\n",
              "  <thead>\n",
              "    <tr style=\"text-align: right;\">\n",
              "      <th></th>\n",
              "      <th>step</th>\n",
              "      <th>type</th>\n",
              "      <th>amount</th>\n",
              "      <th>nameOrig</th>\n",
              "      <th>oldbalanceOrg</th>\n",
              "      <th>newbalanceOrig</th>\n",
              "      <th>nameDest</th>\n",
              "      <th>oldbalanceDest</th>\n",
              "      <th>newbalanceDest</th>\n",
              "      <th>isFraud</th>\n",
              "      <th>isFlaggedFraud</th>\n",
              "    </tr>\n",
              "  </thead>\n",
              "  <tbody>\n",
              "    <tr>\n",
              "      <th>6205439</th>\n",
              "      <td>586</td>\n",
              "      <td>TRANSFER</td>\n",
              "      <td>353874.22</td>\n",
              "      <td>C1684585475</td>\n",
              "      <td>353874.22</td>\n",
              "      <td>353874.22</td>\n",
              "      <td>C1770418982</td>\n",
              "      <td>0.0</td>\n",
              "      <td>0.0</td>\n",
              "      <td>1</td>\n",
              "      <td>1</td>\n",
              "    </tr>\n",
              "    <tr>\n",
              "      <th>3760288</th>\n",
              "      <td>279</td>\n",
              "      <td>TRANSFER</td>\n",
              "      <td>536624.41</td>\n",
              "      <td>C1035541766</td>\n",
              "      <td>536624.41</td>\n",
              "      <td>536624.41</td>\n",
              "      <td>C1100697970</td>\n",
              "      <td>0.0</td>\n",
              "      <td>0.0</td>\n",
              "      <td>1</td>\n",
              "      <td>1</td>\n",
              "    </tr>\n",
              "    <tr>\n",
              "      <th>3247297</th>\n",
              "      <td>250</td>\n",
              "      <td>TRANSFER</td>\n",
              "      <td>1343002.08</td>\n",
              "      <td>C1100582606</td>\n",
              "      <td>1343002.08</td>\n",
              "      <td>1343002.08</td>\n",
              "      <td>C1147517658</td>\n",
              "      <td>0.0</td>\n",
              "      <td>0.0</td>\n",
              "      <td>1</td>\n",
              "      <td>1</td>\n",
              "    </tr>\n",
              "    <tr>\n",
              "      <th>6266413</th>\n",
              "      <td>617</td>\n",
              "      <td>TRANSFER</td>\n",
              "      <td>2542664.27</td>\n",
              "      <td>C786455622</td>\n",
              "      <td>2542664.27</td>\n",
              "      <td>2542664.27</td>\n",
              "      <td>C661958277</td>\n",
              "      <td>0.0</td>\n",
              "      <td>0.0</td>\n",
              "      <td>1</td>\n",
              "      <td>1</td>\n",
              "    </tr>\n",
              "    <tr>\n",
              "      <th>6351225</th>\n",
              "      <td>702</td>\n",
              "      <td>TRANSFER</td>\n",
              "      <td>3171085.59</td>\n",
              "      <td>C1892216157</td>\n",
              "      <td>3171085.59</td>\n",
              "      <td>3171085.59</td>\n",
              "      <td>C1308068787</td>\n",
              "      <td>0.0</td>\n",
              "      <td>0.0</td>\n",
              "      <td>1</td>\n",
              "      <td>1</td>\n",
              "    </tr>\n",
              "    <tr>\n",
              "      <th>6296014</th>\n",
              "      <td>671</td>\n",
              "      <td>TRANSFER</td>\n",
              "      <td>3441041.46</td>\n",
              "      <td>C917414431</td>\n",
              "      <td>3441041.46</td>\n",
              "      <td>3441041.46</td>\n",
              "      <td>C1082139865</td>\n",
              "      <td>0.0</td>\n",
              "      <td>0.0</td>\n",
              "      <td>1</td>\n",
              "      <td>1</td>\n",
              "    </tr>\n",
              "    <tr>\n",
              "      <th>6168499</th>\n",
              "      <td>554</td>\n",
              "      <td>TRANSFER</td>\n",
              "      <td>3576297.10</td>\n",
              "      <td>C193696150</td>\n",
              "      <td>3576297.10</td>\n",
              "      <td>3576297.10</td>\n",
              "      <td>C484597480</td>\n",
              "      <td>0.0</td>\n",
              "      <td>0.0</td>\n",
              "      <td>1</td>\n",
              "      <td>1</td>\n",
              "    </tr>\n",
              "    <tr>\n",
              "      <th>5563713</th>\n",
              "      <td>387</td>\n",
              "      <td>TRANSFER</td>\n",
              "      <td>4892193.09</td>\n",
              "      <td>C908544136</td>\n",
              "      <td>4892193.09</td>\n",
              "      <td>4892193.09</td>\n",
              "      <td>C891140444</td>\n",
              "      <td>0.0</td>\n",
              "      <td>0.0</td>\n",
              "      <td>1</td>\n",
              "      <td>1</td>\n",
              "    </tr>\n",
              "    <tr>\n",
              "      <th>2736446</th>\n",
              "      <td>212</td>\n",
              "      <td>TRANSFER</td>\n",
              "      <td>4953893.08</td>\n",
              "      <td>C728984460</td>\n",
              "      <td>4953893.08</td>\n",
              "      <td>4953893.08</td>\n",
              "      <td>C639921569</td>\n",
              "      <td>0.0</td>\n",
              "      <td>0.0</td>\n",
              "      <td>1</td>\n",
              "      <td>1</td>\n",
              "    </tr>\n",
              "    <tr>\n",
              "      <th>6362584</th>\n",
              "      <td>741</td>\n",
              "      <td>TRANSFER</td>\n",
              "      <td>5674547.89</td>\n",
              "      <td>C992223106</td>\n",
              "      <td>5674547.89</td>\n",
              "      <td>5674547.89</td>\n",
              "      <td>C1366804249</td>\n",
              "      <td>0.0</td>\n",
              "      <td>0.0</td>\n",
              "      <td>1</td>\n",
              "      <td>1</td>\n",
              "    </tr>\n",
              "    <tr>\n",
              "      <th>6281482</th>\n",
              "      <td>646</td>\n",
              "      <td>TRANSFER</td>\n",
              "      <td>10000000.00</td>\n",
              "      <td>C19004745</td>\n",
              "      <td>10399045.08</td>\n",
              "      <td>10399045.08</td>\n",
              "      <td>C1806199534</td>\n",
              "      <td>0.0</td>\n",
              "      <td>0.0</td>\n",
              "      <td>1</td>\n",
              "      <td>1</td>\n",
              "    </tr>\n",
              "    <tr>\n",
              "      <th>6281484</th>\n",
              "      <td>646</td>\n",
              "      <td>TRANSFER</td>\n",
              "      <td>399045.08</td>\n",
              "      <td>C724693370</td>\n",
              "      <td>10399045.08</td>\n",
              "      <td>10399045.08</td>\n",
              "      <td>C1909486199</td>\n",
              "      <td>0.0</td>\n",
              "      <td>0.0</td>\n",
              "      <td>1</td>\n",
              "      <td>1</td>\n",
              "    </tr>\n",
              "    <tr>\n",
              "      <th>6362460</th>\n",
              "      <td>730</td>\n",
              "      <td>TRANSFER</td>\n",
              "      <td>10000000.00</td>\n",
              "      <td>C2140038573</td>\n",
              "      <td>17316255.05</td>\n",
              "      <td>17316255.05</td>\n",
              "      <td>C1395467927</td>\n",
              "      <td>0.0</td>\n",
              "      <td>0.0</td>\n",
              "      <td>1</td>\n",
              "      <td>1</td>\n",
              "    </tr>\n",
              "    <tr>\n",
              "      <th>6362462</th>\n",
              "      <td>730</td>\n",
              "      <td>TRANSFER</td>\n",
              "      <td>7316255.05</td>\n",
              "      <td>C1869569059</td>\n",
              "      <td>17316255.05</td>\n",
              "      <td>17316255.05</td>\n",
              "      <td>C1861208726</td>\n",
              "      <td>0.0</td>\n",
              "      <td>0.0</td>\n",
              "      <td>1</td>\n",
              "      <td>1</td>\n",
              "    </tr>\n",
              "    <tr>\n",
              "      <th>5996407</th>\n",
              "      <td>425</td>\n",
              "      <td>TRANSFER</td>\n",
              "      <td>10000000.00</td>\n",
              "      <td>C689608084</td>\n",
              "      <td>19585040.37</td>\n",
              "      <td>19585040.37</td>\n",
              "      <td>C1392803603</td>\n",
              "      <td>0.0</td>\n",
              "      <td>0.0</td>\n",
              "      <td>1</td>\n",
              "      <td>1</td>\n",
              "    </tr>\n",
              "    <tr>\n",
              "      <th>5996409</th>\n",
              "      <td>425</td>\n",
              "      <td>TRANSFER</td>\n",
              "      <td>9585040.37</td>\n",
              "      <td>C452586515</td>\n",
              "      <td>19585040.37</td>\n",
              "      <td>19585040.37</td>\n",
              "      <td>C1109166882</td>\n",
              "      <td>0.0</td>\n",
              "      <td>0.0</td>\n",
              "      <td>1</td>\n",
              "      <td>1</td>\n",
              "    </tr>\n",
              "  </tbody>\n",
              "</table>\n",
              "</div>"
            ]
          },
          "metadata": {},
          "execution_count": 22
        }
      ],
      "source": [
        "# frauds having same old and new balance\n",
        "# sorted by old orignal balance to check original old balance for flagged frauds\n",
        "\n",
        "# this table shows flagged frauds with maximum original old balance\n",
        "\n",
        "\n",
        "dataTransfer.loc[(dataTransfer.isFlaggedFraud == 1) & (dataTransfer.oldbalanceOrg == dataTransfer.newbalanceOrig)].sort_values(by = 'oldbalanceOrg')"
      ]
    },
    {
      "cell_type": "markdown",
      "metadata": {
        "id": "cjrFcj4XfH50"
      },
      "source": [
        "**Minimum Original Old Balance for non-Flagged Frauds**"
      ]
    },
    {
      "cell_type": "code",
      "execution_count": 23,
      "metadata": {
        "id": "azuIauWGe_qs",
        "colab": {
          "base_uri": "https://localhost:8080/",
          "height": 383
        },
        "outputId": "a5a073c6-7de7-4f9d-998e-88f7fbdba0be"
      },
      "outputs": [
        {
          "output_type": "execute_result",
          "data": {
            "text/plain": [
              "         step      type      amount     nameOrig  oldbalanceOrg  \\\n",
              "5996403   425  TRANSFER  10000000.0  C1619838170    39585040.37   \n",
              "6281476   646  TRANSFER  10000000.0   C130070267    40399045.08   \n",
              "6266405   617  TRANSFER  10000000.0   C794290057    42542664.27   \n",
              "5563705   387  TRANSFER  10000000.0   C576718894    44892193.09   \n",
              "6362576   741  TRANSFER  10000000.0   C780743034    45674547.89   \n",
              "6362454   730  TRANSFER  10000000.0   C507645439    47316255.05   \n",
              "5996401   425  TRANSFER  10000000.0  C1551381510    49585040.37   \n",
              "6281474   646  TRANSFER  10000000.0   C590657619    50399045.08   \n",
              "6362452   730  TRANSFER  10000000.0   C726730575    57316255.05   \n",
              "5996399   425  TRANSFER  10000000.0    C40489106    59585040.37   \n",
              "\n",
              "         newbalanceOrig     nameDest  oldbalanceDest  newbalanceDest  isFraud  \\\n",
              "5996403     29585040.37  C1934167334             0.0             0.0        1   \n",
              "6281476     30399045.08   C970791522             0.0             0.0        1   \n",
              "6266405     32542664.27   C262998076             0.0             0.0        1   \n",
              "5563705     34892193.09   C673002421             0.0             0.0        1   \n",
              "6362576     35674547.89   C491519946             0.0             0.0        1   \n",
              "6362454     37316255.05   C270374999             0.0             0.0        1   \n",
              "5996401     39585040.37  C1042012237             0.0             0.0        1   \n",
              "6281474     40399045.08  C1971187430             0.0             0.0        1   \n",
              "6362452     47316255.05  C1364745638             0.0             0.0        1   \n",
              "5996399     49585040.37   C650095152             0.0             0.0        1   \n",
              "\n",
              "         isFlaggedFraud  \n",
              "5996403               0  \n",
              "6281476               0  \n",
              "6266405               0  \n",
              "5563705               0  \n",
              "6362576               0  \n",
              "6362454               0  \n",
              "5996401               0  \n",
              "6281474               0  \n",
              "6362452               0  \n",
              "5996399               0  "
            ],
            "text/html": [
              "<div>\n",
              "<style scoped>\n",
              "    .dataframe tbody tr th:only-of-type {\n",
              "        vertical-align: middle;\n",
              "    }\n",
              "\n",
              "    .dataframe tbody tr th {\n",
              "        vertical-align: top;\n",
              "    }\n",
              "\n",
              "    .dataframe thead th {\n",
              "        text-align: right;\n",
              "    }\n",
              "</style>\n",
              "<table border=\"1\" class=\"dataframe\">\n",
              "  <thead>\n",
              "    <tr style=\"text-align: right;\">\n",
              "      <th></th>\n",
              "      <th>step</th>\n",
              "      <th>type</th>\n",
              "      <th>amount</th>\n",
              "      <th>nameOrig</th>\n",
              "      <th>oldbalanceOrg</th>\n",
              "      <th>newbalanceOrig</th>\n",
              "      <th>nameDest</th>\n",
              "      <th>oldbalanceDest</th>\n",
              "      <th>newbalanceDest</th>\n",
              "      <th>isFraud</th>\n",
              "      <th>isFlaggedFraud</th>\n",
              "    </tr>\n",
              "  </thead>\n",
              "  <tbody>\n",
              "    <tr>\n",
              "      <th>5996403</th>\n",
              "      <td>425</td>\n",
              "      <td>TRANSFER</td>\n",
              "      <td>10000000.0</td>\n",
              "      <td>C1619838170</td>\n",
              "      <td>39585040.37</td>\n",
              "      <td>29585040.37</td>\n",
              "      <td>C1934167334</td>\n",
              "      <td>0.0</td>\n",
              "      <td>0.0</td>\n",
              "      <td>1</td>\n",
              "      <td>0</td>\n",
              "    </tr>\n",
              "    <tr>\n",
              "      <th>6281476</th>\n",
              "      <td>646</td>\n",
              "      <td>TRANSFER</td>\n",
              "      <td>10000000.0</td>\n",
              "      <td>C130070267</td>\n",
              "      <td>40399045.08</td>\n",
              "      <td>30399045.08</td>\n",
              "      <td>C970791522</td>\n",
              "      <td>0.0</td>\n",
              "      <td>0.0</td>\n",
              "      <td>1</td>\n",
              "      <td>0</td>\n",
              "    </tr>\n",
              "    <tr>\n",
              "      <th>6266405</th>\n",
              "      <td>617</td>\n",
              "      <td>TRANSFER</td>\n",
              "      <td>10000000.0</td>\n",
              "      <td>C794290057</td>\n",
              "      <td>42542664.27</td>\n",
              "      <td>32542664.27</td>\n",
              "      <td>C262998076</td>\n",
              "      <td>0.0</td>\n",
              "      <td>0.0</td>\n",
              "      <td>1</td>\n",
              "      <td>0</td>\n",
              "    </tr>\n",
              "    <tr>\n",
              "      <th>5563705</th>\n",
              "      <td>387</td>\n",
              "      <td>TRANSFER</td>\n",
              "      <td>10000000.0</td>\n",
              "      <td>C576718894</td>\n",
              "      <td>44892193.09</td>\n",
              "      <td>34892193.09</td>\n",
              "      <td>C673002421</td>\n",
              "      <td>0.0</td>\n",
              "      <td>0.0</td>\n",
              "      <td>1</td>\n",
              "      <td>0</td>\n",
              "    </tr>\n",
              "    <tr>\n",
              "      <th>6362576</th>\n",
              "      <td>741</td>\n",
              "      <td>TRANSFER</td>\n",
              "      <td>10000000.0</td>\n",
              "      <td>C780743034</td>\n",
              "      <td>45674547.89</td>\n",
              "      <td>35674547.89</td>\n",
              "      <td>C491519946</td>\n",
              "      <td>0.0</td>\n",
              "      <td>0.0</td>\n",
              "      <td>1</td>\n",
              "      <td>0</td>\n",
              "    </tr>\n",
              "    <tr>\n",
              "      <th>6362454</th>\n",
              "      <td>730</td>\n",
              "      <td>TRANSFER</td>\n",
              "      <td>10000000.0</td>\n",
              "      <td>C507645439</td>\n",
              "      <td>47316255.05</td>\n",
              "      <td>37316255.05</td>\n",
              "      <td>C270374999</td>\n",
              "      <td>0.0</td>\n",
              "      <td>0.0</td>\n",
              "      <td>1</td>\n",
              "      <td>0</td>\n",
              "    </tr>\n",
              "    <tr>\n",
              "      <th>5996401</th>\n",
              "      <td>425</td>\n",
              "      <td>TRANSFER</td>\n",
              "      <td>10000000.0</td>\n",
              "      <td>C1551381510</td>\n",
              "      <td>49585040.37</td>\n",
              "      <td>39585040.37</td>\n",
              "      <td>C1042012237</td>\n",
              "      <td>0.0</td>\n",
              "      <td>0.0</td>\n",
              "      <td>1</td>\n",
              "      <td>0</td>\n",
              "    </tr>\n",
              "    <tr>\n",
              "      <th>6281474</th>\n",
              "      <td>646</td>\n",
              "      <td>TRANSFER</td>\n",
              "      <td>10000000.0</td>\n",
              "      <td>C590657619</td>\n",
              "      <td>50399045.08</td>\n",
              "      <td>40399045.08</td>\n",
              "      <td>C1971187430</td>\n",
              "      <td>0.0</td>\n",
              "      <td>0.0</td>\n",
              "      <td>1</td>\n",
              "      <td>0</td>\n",
              "    </tr>\n",
              "    <tr>\n",
              "      <th>6362452</th>\n",
              "      <td>730</td>\n",
              "      <td>TRANSFER</td>\n",
              "      <td>10000000.0</td>\n",
              "      <td>C726730575</td>\n",
              "      <td>57316255.05</td>\n",
              "      <td>47316255.05</td>\n",
              "      <td>C1364745638</td>\n",
              "      <td>0.0</td>\n",
              "      <td>0.0</td>\n",
              "      <td>1</td>\n",
              "      <td>0</td>\n",
              "    </tr>\n",
              "    <tr>\n",
              "      <th>5996399</th>\n",
              "      <td>425</td>\n",
              "      <td>TRANSFER</td>\n",
              "      <td>10000000.0</td>\n",
              "      <td>C40489106</td>\n",
              "      <td>59585040.37</td>\n",
              "      <td>49585040.37</td>\n",
              "      <td>C650095152</td>\n",
              "      <td>0.0</td>\n",
              "      <td>0.0</td>\n",
              "      <td>1</td>\n",
              "      <td>0</td>\n",
              "    </tr>\n",
              "  </tbody>\n",
              "</table>\n",
              "</div>"
            ]
          },
          "metadata": {},
          "execution_count": 23
        }
      ],
      "source": [
        "dataTransfer.loc[(dataTransfer['isFlaggedFraud'] == 0) & (dataTransfer.oldbalanceDest == dataTransfer.newbalanceDest)].sort_values(by = 'oldbalanceOrg').tail(10)"
      ]
    },
    {
      "cell_type": "markdown",
      "metadata": {
        "id": "uf6Ts4cmfNaD"
      },
      "source": [
        "**Maximum Original Old Balance for Non-Flagged Frauds**"
      ]
    },
    {
      "cell_type": "code",
      "execution_count": 24,
      "metadata": {
        "id": "HJnQaXTCfRaL",
        "colab": {
          "base_uri": "https://localhost:8080/",
          "height": 383
        },
        "outputId": "9580198f-dae1-429b-ece1-e900070b2198"
      },
      "outputs": [
        {
          "output_type": "execute_result",
          "data": {
            "text/plain": [
              "         step      type      amount     nameOrig  oldbalanceOrg  \\\n",
              "5996403   425  TRANSFER  10000000.0  C1619838170    39585040.37   \n",
              "6281476   646  TRANSFER  10000000.0   C130070267    40399045.08   \n",
              "6266405   617  TRANSFER  10000000.0   C794290057    42542664.27   \n",
              "5563705   387  TRANSFER  10000000.0   C576718894    44892193.09   \n",
              "6362576   741  TRANSFER  10000000.0   C780743034    45674547.89   \n",
              "6362454   730  TRANSFER  10000000.0   C507645439    47316255.05   \n",
              "5996401   425  TRANSFER  10000000.0  C1551381510    49585040.37   \n",
              "6281474   646  TRANSFER  10000000.0   C590657619    50399045.08   \n",
              "6362452   730  TRANSFER  10000000.0   C726730575    57316255.05   \n",
              "5996399   425  TRANSFER  10000000.0    C40489106    59585040.37   \n",
              "\n",
              "         newbalanceOrig     nameDest  oldbalanceDest  newbalanceDest  isFraud  \\\n",
              "5996403     29585040.37  C1934167334             0.0             0.0        1   \n",
              "6281476     30399045.08   C970791522             0.0             0.0        1   \n",
              "6266405     32542664.27   C262998076             0.0             0.0        1   \n",
              "5563705     34892193.09   C673002421             0.0             0.0        1   \n",
              "6362576     35674547.89   C491519946             0.0             0.0        1   \n",
              "6362454     37316255.05   C270374999             0.0             0.0        1   \n",
              "5996401     39585040.37  C1042012237             0.0             0.0        1   \n",
              "6281474     40399045.08  C1971187430             0.0             0.0        1   \n",
              "6362452     47316255.05  C1364745638             0.0             0.0        1   \n",
              "5996399     49585040.37   C650095152             0.0             0.0        1   \n",
              "\n",
              "         isFlaggedFraud  \n",
              "5996403               0  \n",
              "6281476               0  \n",
              "6266405               0  \n",
              "5563705               0  \n",
              "6362576               0  \n",
              "6362454               0  \n",
              "5996401               0  \n",
              "6281474               0  \n",
              "6362452               0  \n",
              "5996399               0  "
            ],
            "text/html": [
              "<div>\n",
              "<style scoped>\n",
              "    .dataframe tbody tr th:only-of-type {\n",
              "        vertical-align: middle;\n",
              "    }\n",
              "\n",
              "    .dataframe tbody tr th {\n",
              "        vertical-align: top;\n",
              "    }\n",
              "\n",
              "    .dataframe thead th {\n",
              "        text-align: right;\n",
              "    }\n",
              "</style>\n",
              "<table border=\"1\" class=\"dataframe\">\n",
              "  <thead>\n",
              "    <tr style=\"text-align: right;\">\n",
              "      <th></th>\n",
              "      <th>step</th>\n",
              "      <th>type</th>\n",
              "      <th>amount</th>\n",
              "      <th>nameOrig</th>\n",
              "      <th>oldbalanceOrg</th>\n",
              "      <th>newbalanceOrig</th>\n",
              "      <th>nameDest</th>\n",
              "      <th>oldbalanceDest</th>\n",
              "      <th>newbalanceDest</th>\n",
              "      <th>isFraud</th>\n",
              "      <th>isFlaggedFraud</th>\n",
              "    </tr>\n",
              "  </thead>\n",
              "  <tbody>\n",
              "    <tr>\n",
              "      <th>5996403</th>\n",
              "      <td>425</td>\n",
              "      <td>TRANSFER</td>\n",
              "      <td>10000000.0</td>\n",
              "      <td>C1619838170</td>\n",
              "      <td>39585040.37</td>\n",
              "      <td>29585040.37</td>\n",
              "      <td>C1934167334</td>\n",
              "      <td>0.0</td>\n",
              "      <td>0.0</td>\n",
              "      <td>1</td>\n",
              "      <td>0</td>\n",
              "    </tr>\n",
              "    <tr>\n",
              "      <th>6281476</th>\n",
              "      <td>646</td>\n",
              "      <td>TRANSFER</td>\n",
              "      <td>10000000.0</td>\n",
              "      <td>C130070267</td>\n",
              "      <td>40399045.08</td>\n",
              "      <td>30399045.08</td>\n",
              "      <td>C970791522</td>\n",
              "      <td>0.0</td>\n",
              "      <td>0.0</td>\n",
              "      <td>1</td>\n",
              "      <td>0</td>\n",
              "    </tr>\n",
              "    <tr>\n",
              "      <th>6266405</th>\n",
              "      <td>617</td>\n",
              "      <td>TRANSFER</td>\n",
              "      <td>10000000.0</td>\n",
              "      <td>C794290057</td>\n",
              "      <td>42542664.27</td>\n",
              "      <td>32542664.27</td>\n",
              "      <td>C262998076</td>\n",
              "      <td>0.0</td>\n",
              "      <td>0.0</td>\n",
              "      <td>1</td>\n",
              "      <td>0</td>\n",
              "    </tr>\n",
              "    <tr>\n",
              "      <th>5563705</th>\n",
              "      <td>387</td>\n",
              "      <td>TRANSFER</td>\n",
              "      <td>10000000.0</td>\n",
              "      <td>C576718894</td>\n",
              "      <td>44892193.09</td>\n",
              "      <td>34892193.09</td>\n",
              "      <td>C673002421</td>\n",
              "      <td>0.0</td>\n",
              "      <td>0.0</td>\n",
              "      <td>1</td>\n",
              "      <td>0</td>\n",
              "    </tr>\n",
              "    <tr>\n",
              "      <th>6362576</th>\n",
              "      <td>741</td>\n",
              "      <td>TRANSFER</td>\n",
              "      <td>10000000.0</td>\n",
              "      <td>C780743034</td>\n",
              "      <td>45674547.89</td>\n",
              "      <td>35674547.89</td>\n",
              "      <td>C491519946</td>\n",
              "      <td>0.0</td>\n",
              "      <td>0.0</td>\n",
              "      <td>1</td>\n",
              "      <td>0</td>\n",
              "    </tr>\n",
              "    <tr>\n",
              "      <th>6362454</th>\n",
              "      <td>730</td>\n",
              "      <td>TRANSFER</td>\n",
              "      <td>10000000.0</td>\n",
              "      <td>C507645439</td>\n",
              "      <td>47316255.05</td>\n",
              "      <td>37316255.05</td>\n",
              "      <td>C270374999</td>\n",
              "      <td>0.0</td>\n",
              "      <td>0.0</td>\n",
              "      <td>1</td>\n",
              "      <td>0</td>\n",
              "    </tr>\n",
              "    <tr>\n",
              "      <th>5996401</th>\n",
              "      <td>425</td>\n",
              "      <td>TRANSFER</td>\n",
              "      <td>10000000.0</td>\n",
              "      <td>C1551381510</td>\n",
              "      <td>49585040.37</td>\n",
              "      <td>39585040.37</td>\n",
              "      <td>C1042012237</td>\n",
              "      <td>0.0</td>\n",
              "      <td>0.0</td>\n",
              "      <td>1</td>\n",
              "      <td>0</td>\n",
              "    </tr>\n",
              "    <tr>\n",
              "      <th>6281474</th>\n",
              "      <td>646</td>\n",
              "      <td>TRANSFER</td>\n",
              "      <td>10000000.0</td>\n",
              "      <td>C590657619</td>\n",
              "      <td>50399045.08</td>\n",
              "      <td>40399045.08</td>\n",
              "      <td>C1971187430</td>\n",
              "      <td>0.0</td>\n",
              "      <td>0.0</td>\n",
              "      <td>1</td>\n",
              "      <td>0</td>\n",
              "    </tr>\n",
              "    <tr>\n",
              "      <th>6362452</th>\n",
              "      <td>730</td>\n",
              "      <td>TRANSFER</td>\n",
              "      <td>10000000.0</td>\n",
              "      <td>C726730575</td>\n",
              "      <td>57316255.05</td>\n",
              "      <td>47316255.05</td>\n",
              "      <td>C1364745638</td>\n",
              "      <td>0.0</td>\n",
              "      <td>0.0</td>\n",
              "      <td>1</td>\n",
              "      <td>0</td>\n",
              "    </tr>\n",
              "    <tr>\n",
              "      <th>5996399</th>\n",
              "      <td>425</td>\n",
              "      <td>TRANSFER</td>\n",
              "      <td>10000000.0</td>\n",
              "      <td>C40489106</td>\n",
              "      <td>59585040.37</td>\n",
              "      <td>49585040.37</td>\n",
              "      <td>C650095152</td>\n",
              "      <td>0.0</td>\n",
              "      <td>0.0</td>\n",
              "      <td>1</td>\n",
              "      <td>0</td>\n",
              "    </tr>\n",
              "  </tbody>\n",
              "</table>\n",
              "</div>"
            ]
          },
          "metadata": {},
          "execution_count": 24
        }
      ],
      "source": [
        "dataTransfer.loc[(dataTransfer['isFlaggedFraud'] == 0) & (dataTransfer.oldbalanceDest == dataTransfer.newbalanceDest)].sort_values(by = 'oldbalanceOrg').tail(10)"
      ]
    },
    {
      "cell_type": "code",
      "execution_count": 25,
      "metadata": {
        "id": "ctiKAC14fh6d",
        "colab": {
          "base_uri": "https://localhost:8080/"
        },
        "outputId": "288e0887-b6c7-492f-dd58-5d68c2c02108"
      },
      "outputs": [
        {
          "output_type": "stream",
          "name": "stdout",
          "text": [
            "Minimum Balance of oldBalanceOrig for FlaggedFraud and Transfer mode : 353874.22\n",
            "Maximum Balance of oldbalanceOrig for FlaggedFraud and Transfer mode : 19585040.37\n"
          ]
        }
      ],
      "source": [
        "# finding out the minimum and maximum amount for oldbalance original where oldbalance and newbalance for dest is same.\n",
        "\n",
        "dataFlagged = dataset.loc[dataset.isFlaggedFraud == 1]\n",
        "\n",
        "print('Minimum Balance of oldBalanceOrig for FlaggedFraud and Transfer mode :', dataFlagged.oldbalanceOrg.min())\n",
        "print('Maximum Balance of oldbalanceOrig for FlaggedFraud and Transfer mode :', dataFlagged.oldbalanceOrg.max())\n"
      ]
    },
    {
      "cell_type": "code",
      "execution_count": 26,
      "metadata": {
        "id": "epJ1Q2W_fh9P",
        "colab": {
          "base_uri": "https://localhost:8080/"
        },
        "outputId": "fb51182a-9740-4d48-db21-98e9a2c2458a"
      },
      "outputs": [
        {
          "output_type": "stream",
          "name": "stdout",
          "text": [
            "Minimum Balance of oldbalanceOrig for non FlaggedFraud and Transfer mode: 0.0\n",
            "Maximum Balance of oldbalanceOrig for non FlaggedFraud and Transfer mode: 575667.54\n"
          ]
        }
      ],
      "source": [
        "# Finding the maximum and minimum balance in original balance when newbalance original and oldbalance original are equal\n",
        "\n",
        "print('Minimum Balance of oldbalanceOrig for non FlaggedFraud and Transfer mode:',\n",
        "      dataset[(dataset.type == 'TRANSFER') & (dataset.isFlaggedFraud == 0) & (dataset.oldbalanceOrg == dataset.newbalanceOrig)].oldbalanceOrg.min())\n",
        "print('Maximum Balance of oldbalanceOrig for non FlaggedFraud and Transfer mode:',\n",
        "      dataset[(dataset.type == 'TRANSFER') & (dataset.isFlaggedFraud == 0) & (dataset.oldbalanceOrg == dataset.newbalanceOrig)].oldbalanceOrg.max())\n"
      ]
    },
    {
      "cell_type": "code",
      "execution_count": 27,
      "metadata": {
        "id": "8aP7rxpbfh_r",
        "colab": {
          "base_uri": "https://localhost:8080/"
        },
        "outputId": "3996f001-5878-416c-a366-acf51d5527e2"
      },
      "outputs": [
        {
          "output_type": "stream",
          "name": "stdout",
          "text": [
            "Minimum Balance of oldbalanceOrig for  FlaggedFraud and Transfer mode: 353874.22\n",
            "Maximum Balance of oldbalanceOrig for non FlaggedFraud and Transfer mode: 19585040.37\n"
          ]
        }
      ],
      "source": [
        "print('Minimum Balance of oldbalanceOrig for  FlaggedFraud and Transfer mode:',\n",
        "      dataset[(dataset.type == 'TRANSFER') & (dataset.isFlaggedFraud == 1) & (dataset.oldbalanceOrg == dataset.newbalanceOrig)].oldbalanceOrg.min())\n",
        "print('Maximum Balance of oldbalanceOrig for non FlaggedFraud and Transfer mode:',\n",
        "      dataset[(dataset.type == 'TRANSFER') & (dataset.isFlaggedFraud == 1) & (dataset.oldbalanceOrg == dataset.newbalanceOrig)].oldbalanceOrg.max())"
      ]
    },
    {
      "cell_type": "code",
      "execution_count": 28,
      "metadata": {
        "id": "JyXUW3VcfiCX",
        "colab": {
          "base_uri": "https://localhost:8080/"
        },
        "outputId": "155ab09c-c092-42cd-de3f-857c1c1c2692"
      },
      "outputs": [
        {
          "output_type": "execute_result",
          "data": {
            "text/plain": [
              "(2770409, 11)"
            ]
          },
          "metadata": {},
          "execution_count": 28
        }
      ],
      "source": [
        "# making dependent and independent sets\n",
        "\n",
        "X = dataset.loc[(dataset.type == 'TRANSFER') | (dataset.type == 'CASH_OUT')]\n",
        "\n",
        "# shape of x\n",
        "X.shape\n"
      ]
    },
    {
      "cell_type": "code",
      "execution_count": 29,
      "metadata": {
        "id": "Rbfc37PCfiEK",
        "colab": {
          "base_uri": "https://localhost:8080/",
          "height": 226
        },
        "outputId": "6a438b8e-ac14-4a8c-c0fc-b387092132d2"
      },
      "outputs": [
        {
          "output_type": "execute_result",
          "data": {
            "text/plain": [
              "    step      type     amount     nameOrig  oldbalanceOrg  newbalanceOrig  \\\n",
              "2      1  TRANSFER     181.00  C1305486145          181.0             0.0   \n",
              "3      1  CASH_OUT     181.00   C840083671          181.0             0.0   \n",
              "15     1  CASH_OUT  229133.94   C905080434        15325.0             0.0   \n",
              "19     1  TRANSFER  215310.30  C1670993182          705.0             0.0   \n",
              "24     1  TRANSFER  311685.89  C1984094095        10835.0             0.0   \n",
              "\n",
              "       nameDest  oldbalanceDest  newbalanceDest  isFraud  isFlaggedFraud  \n",
              "2    C553264065             0.0            0.00        1               0  \n",
              "3     C38997010         21182.0            0.00        1               0  \n",
              "15   C476402209          5083.0        51513.44        0               0  \n",
              "19  C1100439041         22425.0            0.00        0               0  \n",
              "24   C932583850          6267.0      2719172.89        0               0  "
            ],
            "text/html": [
              "<div>\n",
              "<style scoped>\n",
              "    .dataframe tbody tr th:only-of-type {\n",
              "        vertical-align: middle;\n",
              "    }\n",
              "\n",
              "    .dataframe tbody tr th {\n",
              "        vertical-align: top;\n",
              "    }\n",
              "\n",
              "    .dataframe thead th {\n",
              "        text-align: right;\n",
              "    }\n",
              "</style>\n",
              "<table border=\"1\" class=\"dataframe\">\n",
              "  <thead>\n",
              "    <tr style=\"text-align: right;\">\n",
              "      <th></th>\n",
              "      <th>step</th>\n",
              "      <th>type</th>\n",
              "      <th>amount</th>\n",
              "      <th>nameOrig</th>\n",
              "      <th>oldbalanceOrg</th>\n",
              "      <th>newbalanceOrig</th>\n",
              "      <th>nameDest</th>\n",
              "      <th>oldbalanceDest</th>\n",
              "      <th>newbalanceDest</th>\n",
              "      <th>isFraud</th>\n",
              "      <th>isFlaggedFraud</th>\n",
              "    </tr>\n",
              "  </thead>\n",
              "  <tbody>\n",
              "    <tr>\n",
              "      <th>2</th>\n",
              "      <td>1</td>\n",
              "      <td>TRANSFER</td>\n",
              "      <td>181.00</td>\n",
              "      <td>C1305486145</td>\n",
              "      <td>181.0</td>\n",
              "      <td>0.0</td>\n",
              "      <td>C553264065</td>\n",
              "      <td>0.0</td>\n",
              "      <td>0.00</td>\n",
              "      <td>1</td>\n",
              "      <td>0</td>\n",
              "    </tr>\n",
              "    <tr>\n",
              "      <th>3</th>\n",
              "      <td>1</td>\n",
              "      <td>CASH_OUT</td>\n",
              "      <td>181.00</td>\n",
              "      <td>C840083671</td>\n",
              "      <td>181.0</td>\n",
              "      <td>0.0</td>\n",
              "      <td>C38997010</td>\n",
              "      <td>21182.0</td>\n",
              "      <td>0.00</td>\n",
              "      <td>1</td>\n",
              "      <td>0</td>\n",
              "    </tr>\n",
              "    <tr>\n",
              "      <th>15</th>\n",
              "      <td>1</td>\n",
              "      <td>CASH_OUT</td>\n",
              "      <td>229133.94</td>\n",
              "      <td>C905080434</td>\n",
              "      <td>15325.0</td>\n",
              "      <td>0.0</td>\n",
              "      <td>C476402209</td>\n",
              "      <td>5083.0</td>\n",
              "      <td>51513.44</td>\n",
              "      <td>0</td>\n",
              "      <td>0</td>\n",
              "    </tr>\n",
              "    <tr>\n",
              "      <th>19</th>\n",
              "      <td>1</td>\n",
              "      <td>TRANSFER</td>\n",
              "      <td>215310.30</td>\n",
              "      <td>C1670993182</td>\n",
              "      <td>705.0</td>\n",
              "      <td>0.0</td>\n",
              "      <td>C1100439041</td>\n",
              "      <td>22425.0</td>\n",
              "      <td>0.00</td>\n",
              "      <td>0</td>\n",
              "      <td>0</td>\n",
              "    </tr>\n",
              "    <tr>\n",
              "      <th>24</th>\n",
              "      <td>1</td>\n",
              "      <td>TRANSFER</td>\n",
              "      <td>311685.89</td>\n",
              "      <td>C1984094095</td>\n",
              "      <td>10835.0</td>\n",
              "      <td>0.0</td>\n",
              "      <td>C932583850</td>\n",
              "      <td>6267.0</td>\n",
              "      <td>2719172.89</td>\n",
              "      <td>0</td>\n",
              "      <td>0</td>\n",
              "    </tr>\n",
              "  </tbody>\n",
              "</table>\n",
              "</div>"
            ]
          },
          "metadata": {},
          "execution_count": 29
        }
      ],
      "source": [
        "X.head()"
      ]
    },
    {
      "cell_type": "code",
      "execution_count": 30,
      "metadata": {
        "id": "355aSCIMfru9"
      },
      "outputs": [],
      "source": [
        "# feature engg.\n",
        "\n",
        "X['errorBalanceOrig'] = X.newbalanceOrig + X.amount - X.oldbalanceOrg\n",
        "X['errorBalanceDest'] = X.oldbalanceDest + X.amount - X.newbalanceDest"
      ]
    },
    {
      "cell_type": "code",
      "execution_count": 31,
      "metadata": {
        "id": "Qqd7o0rHfrx2",
        "colab": {
          "base_uri": "https://localhost:8080/"
        },
        "outputId": "91675bc1-2c78-4cd4-eab3-e560a9553a44"
      },
      "outputs": [
        {
          "output_type": "execute_result",
          "data": {
            "text/plain": [
              "(2770409, 11)"
            ]
          },
          "metadata": {},
          "execution_count": 31
        }
      ],
      "source": [
        "# removing unwanted columns\n",
        "\n",
        "X = X.drop(['nameDest','nameOrig'], axis = 1)\n",
        "\n",
        "# checking the new shape of data\n",
        "X.shape"
      ]
    },
    {
      "cell_type": "code",
      "execution_count": 32,
      "metadata": {
        "id": "44fQb83_fr0v",
        "colab": {
          "base_uri": "https://localhost:8080/",
          "height": 383
        },
        "outputId": "e73e0349-1d5f-48b2-e3e4-21c2e2003a57"
      },
      "outputs": [
        {
          "output_type": "execute_result",
          "data": {
            "text/plain": [
              "    step  type     amount  oldbalanceOrg  newbalanceOrig  oldbalanceDest  \\\n",
              "2      1     0     181.00         181.00             0.0             0.0   \n",
              "3      1     1     181.00         181.00             0.0         21182.0   \n",
              "15     1     1  229133.94       15325.00             0.0          5083.0   \n",
              "19     1     0  215310.30         705.00             0.0         22425.0   \n",
              "24     1     0  311685.89       10835.00             0.0          6267.0   \n",
              "42     1     1  110414.71       26845.41             0.0        288800.0   \n",
              "47     1     1   56953.90        1942.02             0.0         70253.0   \n",
              "48     1     1    5346.89           0.00             0.0        652637.0   \n",
              "51     1     1   23261.30       20411.53             0.0         25742.0   \n",
              "58     1     0   62610.80       79114.00         16503.2           517.0   \n",
              "\n",
              "    newbalanceDest  isFraud  isFlaggedFraud  errorBalanceOrig  \\\n",
              "2             0.00        1               0              0.00   \n",
              "3             0.00        1               0              0.00   \n",
              "15        51513.44        0               0         213808.94   \n",
              "19            0.00        0               0         214605.30   \n",
              "24      2719172.89        0               0         300850.89   \n",
              "42         2415.16        0               0          83569.30   \n",
              "47        64106.18        0               0          55011.88   \n",
              "48      6453430.91        0               0           5346.89   \n",
              "51            0.00        0               0           2849.77   \n",
              "58         8383.29        0               0              0.00   \n",
              "\n",
              "    errorBalanceDest  \n",
              "2             181.00  \n",
              "3           21363.00  \n",
              "15         182703.50  \n",
              "19         237735.30  \n",
              "24       -2401220.00  \n",
              "42         396799.55  \n",
              "47          63100.72  \n",
              "48       -5795447.02  \n",
              "51          49003.30  \n",
              "58          54744.51  "
            ],
            "text/html": [
              "<div>\n",
              "<style scoped>\n",
              "    .dataframe tbody tr th:only-of-type {\n",
              "        vertical-align: middle;\n",
              "    }\n",
              "\n",
              "    .dataframe tbody tr th {\n",
              "        vertical-align: top;\n",
              "    }\n",
              "\n",
              "    .dataframe thead th {\n",
              "        text-align: right;\n",
              "    }\n",
              "</style>\n",
              "<table border=\"1\" class=\"dataframe\">\n",
              "  <thead>\n",
              "    <tr style=\"text-align: right;\">\n",
              "      <th></th>\n",
              "      <th>step</th>\n",
              "      <th>type</th>\n",
              "      <th>amount</th>\n",
              "      <th>oldbalanceOrg</th>\n",
              "      <th>newbalanceOrig</th>\n",
              "      <th>oldbalanceDest</th>\n",
              "      <th>newbalanceDest</th>\n",
              "      <th>isFraud</th>\n",
              "      <th>isFlaggedFraud</th>\n",
              "      <th>errorBalanceOrig</th>\n",
              "      <th>errorBalanceDest</th>\n",
              "    </tr>\n",
              "  </thead>\n",
              "  <tbody>\n",
              "    <tr>\n",
              "      <th>2</th>\n",
              "      <td>1</td>\n",
              "      <td>0</td>\n",
              "      <td>181.00</td>\n",
              "      <td>181.00</td>\n",
              "      <td>0.0</td>\n",
              "      <td>0.0</td>\n",
              "      <td>0.00</td>\n",
              "      <td>1</td>\n",
              "      <td>0</td>\n",
              "      <td>0.00</td>\n",
              "      <td>181.00</td>\n",
              "    </tr>\n",
              "    <tr>\n",
              "      <th>3</th>\n",
              "      <td>1</td>\n",
              "      <td>1</td>\n",
              "      <td>181.00</td>\n",
              "      <td>181.00</td>\n",
              "      <td>0.0</td>\n",
              "      <td>21182.0</td>\n",
              "      <td>0.00</td>\n",
              "      <td>1</td>\n",
              "      <td>0</td>\n",
              "      <td>0.00</td>\n",
              "      <td>21363.00</td>\n",
              "    </tr>\n",
              "    <tr>\n",
              "      <th>15</th>\n",
              "      <td>1</td>\n",
              "      <td>1</td>\n",
              "      <td>229133.94</td>\n",
              "      <td>15325.00</td>\n",
              "      <td>0.0</td>\n",
              "      <td>5083.0</td>\n",
              "      <td>51513.44</td>\n",
              "      <td>0</td>\n",
              "      <td>0</td>\n",
              "      <td>213808.94</td>\n",
              "      <td>182703.50</td>\n",
              "    </tr>\n",
              "    <tr>\n",
              "      <th>19</th>\n",
              "      <td>1</td>\n",
              "      <td>0</td>\n",
              "      <td>215310.30</td>\n",
              "      <td>705.00</td>\n",
              "      <td>0.0</td>\n",
              "      <td>22425.0</td>\n",
              "      <td>0.00</td>\n",
              "      <td>0</td>\n",
              "      <td>0</td>\n",
              "      <td>214605.30</td>\n",
              "      <td>237735.30</td>\n",
              "    </tr>\n",
              "    <tr>\n",
              "      <th>24</th>\n",
              "      <td>1</td>\n",
              "      <td>0</td>\n",
              "      <td>311685.89</td>\n",
              "      <td>10835.00</td>\n",
              "      <td>0.0</td>\n",
              "      <td>6267.0</td>\n",
              "      <td>2719172.89</td>\n",
              "      <td>0</td>\n",
              "      <td>0</td>\n",
              "      <td>300850.89</td>\n",
              "      <td>-2401220.00</td>\n",
              "    </tr>\n",
              "    <tr>\n",
              "      <th>42</th>\n",
              "      <td>1</td>\n",
              "      <td>1</td>\n",
              "      <td>110414.71</td>\n",
              "      <td>26845.41</td>\n",
              "      <td>0.0</td>\n",
              "      <td>288800.0</td>\n",
              "      <td>2415.16</td>\n",
              "      <td>0</td>\n",
              "      <td>0</td>\n",
              "      <td>83569.30</td>\n",
              "      <td>396799.55</td>\n",
              "    </tr>\n",
              "    <tr>\n",
              "      <th>47</th>\n",
              "      <td>1</td>\n",
              "      <td>1</td>\n",
              "      <td>56953.90</td>\n",
              "      <td>1942.02</td>\n",
              "      <td>0.0</td>\n",
              "      <td>70253.0</td>\n",
              "      <td>64106.18</td>\n",
              "      <td>0</td>\n",
              "      <td>0</td>\n",
              "      <td>55011.88</td>\n",
              "      <td>63100.72</td>\n",
              "    </tr>\n",
              "    <tr>\n",
              "      <th>48</th>\n",
              "      <td>1</td>\n",
              "      <td>1</td>\n",
              "      <td>5346.89</td>\n",
              "      <td>0.00</td>\n",
              "      <td>0.0</td>\n",
              "      <td>652637.0</td>\n",
              "      <td>6453430.91</td>\n",
              "      <td>0</td>\n",
              "      <td>0</td>\n",
              "      <td>5346.89</td>\n",
              "      <td>-5795447.02</td>\n",
              "    </tr>\n",
              "    <tr>\n",
              "      <th>51</th>\n",
              "      <td>1</td>\n",
              "      <td>1</td>\n",
              "      <td>23261.30</td>\n",
              "      <td>20411.53</td>\n",
              "      <td>0.0</td>\n",
              "      <td>25742.0</td>\n",
              "      <td>0.00</td>\n",
              "      <td>0</td>\n",
              "      <td>0</td>\n",
              "      <td>2849.77</td>\n",
              "      <td>49003.30</td>\n",
              "    </tr>\n",
              "    <tr>\n",
              "      <th>58</th>\n",
              "      <td>1</td>\n",
              "      <td>0</td>\n",
              "      <td>62610.80</td>\n",
              "      <td>79114.00</td>\n",
              "      <td>16503.2</td>\n",
              "      <td>517.0</td>\n",
              "      <td>8383.29</td>\n",
              "      <td>0</td>\n",
              "      <td>0</td>\n",
              "      <td>0.00</td>\n",
              "      <td>54744.51</td>\n",
              "    </tr>\n",
              "  </tbody>\n",
              "</table>\n",
              "</div>"
            ]
          },
          "metadata": {},
          "execution_count": 32
        }
      ],
      "source": [
        "# label encoding for the transaction type\n",
        "\n",
        "X['type'].replace('TRANSFER', 0, inplace = True)\n",
        "X['type'].replace('CASH_OUT', 1, inplace = True)\n",
        "X.head(10)"
      ]
    },
    {
      "cell_type": "code",
      "execution_count": 33,
      "metadata": {
        "id": "5tUpN9qSfr3F",
        "colab": {
          "base_uri": "https://localhost:8080/"
        },
        "outputId": "b6b7e739-ad6f-4d78-8499-db7dcf21d0d8"
      },
      "outputs": [
        {
          "output_type": "execute_result",
          "data": {
            "text/plain": [
              "False"
            ]
          },
          "metadata": {},
          "execution_count": 33
        }
      ],
      "source": [
        "# checking if the dataset contains any NULL values\n",
        "\n",
        "X.isnull().any().any()"
      ]
    },
    {
      "cell_type": "code",
      "execution_count": 34,
      "metadata": {
        "id": "tyaNMrSgfr59",
        "colab": {
          "base_uri": "https://localhost:8080/",
          "height": 426
        },
        "outputId": "830624f3-a845-4ea7-ecef-f057952bc836"
      },
      "outputs": [
        {
          "output_type": "display_data",
          "data": {
            "text/plain": [
              "<Figure size 1512x504 with 2 Axes>"
            ],
            "image/png": "[encoded data removed]"
          },
          "metadata": {
            "needs_background": "light"
          }
        }
      ],
      "source": [
        "# visualizing the distribution of errorbalance\n",
        "\n",
        "# setting the size of the plot\n",
        "plt.rcParams['figure.figsize'] = (21, 7)\n",
        "\n",
        "plt.subplot(121)\n",
        "sns.distplot(X['errorBalanceOrig'], color = 'red')\n",
        "plt.title('Error Balance of Origin', fontsize = 20)\n",
        "\n",
        "plt.subplot(122)\n",
        "sns.distplot(X['errorBalanceDest'], color = 'red')\n",
        "plt.title('Error Balance of Destination', fontsize = 20)\n",
        "\n",
        "plt.show()"
      ]
    },
    {
      "cell_type": "code",
      "execution_count": 35,
      "metadata": {
        "id": "p_HQlzdAfr8l",
        "colab": {
          "base_uri": "https://localhost:8080/",
          "height": 432
        },
        "outputId": "afacc7da-97de-41f1-ec8c-6d27cb990e0a"
      },
      "outputs": [
        {
          "output_type": "display_data",
          "data": {
            "text/plain": [
              "<Figure size 1512x504 with 1 Axes>"
            ],
            "image/png": "[encoded data removed]"
          },
          "metadata": {}
        }
      ],
      "source": [
        "# checking the no. of frauds in the dataset\n",
        "\n",
        "X['isFraud'].value_counts()\n",
        "\n",
        "# plotting a pie chart to represent the fraction of the frauds \n",
        "\n",
        "size = [2762196, 8213]\n",
        "labels = ['NON-FRAUD', 'FRAUD']\n",
        "colors = ['lightblue', 'yellow']\n",
        "explode = [0, 0.2]\n",
        "\n",
        "plt.pie(size, labels = labels, colors = colors, explode = explode, shadow  = True, autopct = '%.2f%%')\n",
        "plt.title('Frauds v/s Non-Frauds', fontsize = 20)\n",
        "plt.axis('off')\n",
        "plt.legend()\n",
        "plt.show()"
      ]
    },
    {
      "cell_type": "code",
      "execution_count": 36,
      "metadata": {
        "id": "zgVhNOJYfr-8",
        "colab": {
          "base_uri": "https://localhost:8080/",
          "height": 206
        },
        "outputId": "11989b1b-45cb-44e1-d9a5-4cbfc69785a0"
      },
      "outputs": [
        {
          "output_type": "execute_result",
          "data": {
            "text/plain": [
              "    step  type     amount  oldbalanceOrg  newbalanceOrig  oldbalanceDest  \\\n",
              "2      1     0     181.00          181.0             0.0             0.0   \n",
              "3      1     1     181.00          181.0             0.0         21182.0   \n",
              "15     1     1  229133.94        15325.0             0.0          5083.0   \n",
              "19     1     0  215310.30          705.0             0.0         22425.0   \n",
              "24     1     0  311685.89        10835.0             0.0          6267.0   \n",
              "\n",
              "    newbalanceDest  isFlaggedFraud  errorBalanceOrig  errorBalanceDest  \n",
              "2             0.00               0              0.00             181.0  \n",
              "3             0.00               0              0.00           21363.0  \n",
              "15        51513.44               0         213808.94          182703.5  \n",
              "19            0.00               0         214605.30          237735.3  \n",
              "24      2719172.89               0         300850.89        -2401220.0  "
            ],
            "text/html": [
              "<div>\n",
              "<style scoped>\n",
              "    .dataframe tbody tr th:only-of-type {\n",
              "        vertical-align: middle;\n",
              "    }\n",
              "\n",
              "    .dataframe tbody tr th {\n",
              "        vertical-align: top;\n",
              "    }\n",
              "\n",
              "    .dataframe thead th {\n",
              "        text-align: right;\n",
              "    }\n",
              "</style>\n",
              "<table border=\"1\" class=\"dataframe\">\n",
              "  <thead>\n",
              "    <tr style=\"text-align: right;\">\n",
              "      <th></th>\n",
              "      <th>step</th>\n",
              "      <th>type</th>\n",
              "      <th>amount</th>\n",
              "      <th>oldbalanceOrg</th>\n",
              "      <th>newbalanceOrig</th>\n",
              "      <th>oldbalanceDest</th>\n",
              "      <th>newbalanceDest</th>\n",
              "      <th>isFlaggedFraud</th>\n",
              "      <th>errorBalanceOrig</th>\n",
              "      <th>errorBalanceDest</th>\n",
              "    </tr>\n",
              "  </thead>\n",
              "  <tbody>\n",
              "    <tr>\n",
              "      <th>2</th>\n",
              "      <td>1</td>\n",
              "      <td>0</td>\n",
              "      <td>181.00</td>\n",
              "      <td>181.0</td>\n",
              "      <td>0.0</td>\n",
              "      <td>0.0</td>\n",
              "      <td>0.00</td>\n",
              "      <td>0</td>\n",
              "      <td>0.00</td>\n",
              "      <td>181.0</td>\n",
              "    </tr>\n",
              "    <tr>\n",
              "      <th>3</th>\n",
              "      <td>1</td>\n",
              "      <td>1</td>\n",
              "      <td>181.00</td>\n",
              "      <td>181.0</td>\n",
              "      <td>0.0</td>\n",
              "      <td>21182.0</td>\n",
              "      <td>0.00</td>\n",
              "      <td>0</td>\n",
              "      <td>0.00</td>\n",
              "      <td>21363.0</td>\n",
              "    </tr>\n",
              "    <tr>\n",
              "      <th>15</th>\n",
              "      <td>1</td>\n",
              "      <td>1</td>\n",
              "      <td>229133.94</td>\n",
              "      <td>15325.0</td>\n",
              "      <td>0.0</td>\n",
              "      <td>5083.0</td>\n",
              "      <td>51513.44</td>\n",
              "      <td>0</td>\n",
              "      <td>213808.94</td>\n",
              "      <td>182703.5</td>\n",
              "    </tr>\n",
              "    <tr>\n",
              "      <th>19</th>\n",
              "      <td>1</td>\n",
              "      <td>0</td>\n",
              "      <td>215310.30</td>\n",
              "      <td>705.0</td>\n",
              "      <td>0.0</td>\n",
              "      <td>22425.0</td>\n",
              "      <td>0.00</td>\n",
              "      <td>0</td>\n",
              "      <td>214605.30</td>\n",
              "      <td>237735.3</td>\n",
              "    </tr>\n",
              "    <tr>\n",
              "      <th>24</th>\n",
              "      <td>1</td>\n",
              "      <td>0</td>\n",
              "      <td>311685.89</td>\n",
              "      <td>10835.0</td>\n",
              "      <td>0.0</td>\n",
              "      <td>6267.0</td>\n",
              "      <td>2719172.89</td>\n",
              "      <td>0</td>\n",
              "      <td>300850.89</td>\n",
              "      <td>-2401220.0</td>\n",
              "    </tr>\n",
              "  </tbody>\n",
              "</table>\n",
              "</div>"
            ]
          },
          "metadata": {},
          "execution_count": 36
        }
      ],
      "source": [
        "# making our independent set\n",
        "\n",
        "Y = X['isFraud']\n",
        "\n",
        "# removing the dependent set\n",
        "X = X.drop(['isFraud'], axis = 1)\n",
        "X.head()"
      ]
    },
    {
      "cell_type": "code",
      "execution_count": 37,
      "metadata": {
        "id": "g-cdgzW_ykPF",
        "colab": {
          "base_uri": "https://localhost:8080/"
        },
        "outputId": "6e6e7d66-7e9e-4857-86fa-4f45fd262a47"
      },
      "outputs": [
        {
          "output_type": "stream",
          "name": "stdout",
          "text": [
            "Shape of x:  (5524392, 10)\n",
            "Shape of y: (5524392,)\n"
          ]
        }
      ],
      "source": [
        "from imblearn.over_sampling import SMOTE\n",
        "\n",
        "x_resample, y_resample = SMOTE().fit_resample(X,Y.values.ravel())\n",
        "\n",
        "# getting the shapes of x and y after resampling\n",
        "print(\"Shape of x: \", x_resample.shape)\n",
        "print(\"Shape of y:\", y_resample.shape)"
      ]
    },
    {
      "cell_type": "markdown",
      "metadata": {
        "id": "7gGfA6zFgBvj"
      },
      "source": [
        "**Intel® Extension for Scikit-learn:**-For Intel® CPUs and GPUs in single- and multi-node setups, the Intel® Extension for Scikit-learn delivers seamless integration with scikit-learn applications while shortening algorithm run times. You only need to call the patch sklearn() function,to take advantage of the accelerations and keep utilising the same scikit-learn libraries and AI software without making any additional modifications to your code. The optimised versions of the available standard scikit-learn algorithms will be replaced by the patch."
      ]
    },
    {
      "cell_type": "code",
      "execution_count": 38,
      "metadata": {
        "id": "AdbA08GKfsJY",
        "colab": {
          "base_uri": "https://localhost:8080/"
        },
        "outputId": "a2615e23-2af3-4466-998b-0673bf84c2b2"
      },
      "outputs": [
        {
          "output_type": "stream",
          "name": "stderr",
          "text": [
            "Intel(R) Extension for Scikit-learn* enabled (https://github.com/intel/scikit-learn-intelex)\n"
          ]
        }
      ],
      "source": [
        "from sklearnex import patch_sklearn\n",
        "patch_sklearn()"
      ]
    },
    {
      "cell_type": "code",
      "execution_count": 76,
      "metadata": {
        "id": "3UElAaD2gHRt",
        "colab": {
          "base_uri": "https://localhost:8080/"
        },
        "outputId": "0ae9243e-f4d3-4c2d-bb4b-2ba202795ef7"
      },
      "outputs": [
        {
          "output_type": "stream",
          "name": "stdout",
          "text": [
            "Shape of x_train:  (4419513, 10)\n",
            "Shape of x_test:  (1104879, 10)\n",
            "Shape of y_train:  (4419513,)\n",
            "Shape of y_test:  (1104879,)\n"
          ]
        }
      ],
      "source": [
        "from sklearn.model_selection import train_test_split,StratifiedKFold,RandomizedSearchCV,GridSearchCV\n",
        "\n",
        "x_train, x_test, y_train, y_test = train_test_split(x_resample, y_resample, test_size = 0.2, random_state = 0)\n",
        "\n",
        "# checking the new shapes\n",
        "print(\"Shape of x_train: \", x_train.shape)\n",
        "print(\"Shape of x_test: \", x_test.shape)\n",
        "print(\"Shape of y_train: \", y_train.shape)\n",
        "print(\"Shape of y_test: \", y_test.shape)"
      ]
    },
    {
      "cell_type": "code",
      "execution_count": 40,
      "metadata": {
        "id": "fYFoC1FQgGwr"
      },
      "outputs": [],
      "source": [
        "# performing standard scaling on the data for better fit\n",
        "\n",
        "from sklearn.preprocessing import StandardScaler,RobustScaler\n",
        "\n",
        "sc = StandardScaler()\n",
        "\n",
        "x_train = sc.fit_transform(x_train)\n",
        "x_test = sc.transform(x_test)"
      ]
    },
    {
      "cell_type": "markdown",
      "metadata": {
        "id": "_jxdVP_AQyOg"
      },
      "source": [
        "**K-Means Clustering**"
      ]
    },
    {
      "cell_type": "markdown",
      "source": [
        "Converting categorical values to numerical values(integers)"
      ],
      "metadata": {
        "id": "mHGABDg0-uiR"
      }
    },
    {
      "cell_type": "code",
      "execution_count": 41,
      "metadata": {
        "id": "5X8TUuunRv3P"
      },
      "outputs": [],
      "source": [
        "y = dataset['type']\n",
        "from sklearn.preprocessing import LabelEncoder\n",
        "le = LabelEncoder()\n",
        "dataset['type'] = le.fit_transform(dataset['type'])\n",
        "y = le.transform(y)"
      ]
    },
    {
      "cell_type": "code",
      "execution_count": 42,
      "metadata": {
        "id": "GUqkZ-GUT1Qc"
      },
      "outputs": [],
      "source": [
        "y = dataset['nameOrig']\n",
        "from sklearn.preprocessing import LabelEncoder\n",
        "le = LabelEncoder()\n",
        "dataset['nameOrig'] = le.fit_transform(dataset['nameOrig'])\n",
        "y = le.transform(y)"
      ]
    },
    {
      "cell_type": "code",
      "execution_count": 43,
      "metadata": {
        "id": "17wnjl0mU61R"
      },
      "outputs": [],
      "source": [
        "y = dataset['nameDest']\n",
        "from sklearn.preprocessing import LabelEncoder\n",
        "le = LabelEncoder()\n",
        "dataset['nameDest'] = le.fit_transform(dataset['nameDest'])\n",
        "y = le.transform(y)"
      ]
    },
    {
      "cell_type": "code",
      "execution_count": 44,
      "metadata": {
        "id": "nEV2qT8MeVXO",
        "colab": {
          "base_uri": "https://localhost:8080/"
        },
        "outputId": "10e6c1da-3815-4990-9114-66d13aadb20d"
      },
      "outputs": [
        {
          "output_type": "execute_result",
          "data": {
            "text/plain": [
              "KMeans(n_clusters=15)"
            ]
          },
          "metadata": {},
          "execution_count": 44
        }
      ],
      "source": [
        "from sklearn.cluster import KMeans\n",
        "kmeans = KMeans(n_clusters=15)\n",
        "kmeans.fit(dataset)"
      ]
    },
    {
      "cell_type": "code",
      "execution_count": 45,
      "metadata": {
        "id": "mSalvI4EW4PZ",
        "colab": {
          "base_uri": "https://localhost:8080/"
        },
        "outputId": "f950dd1a-5d03-43da-a867-58ee01b2cf0f"
      },
      "outputs": [
        {
          "output_type": "stream",
          "name": "stdout",
          "text": [
            "Result: 8 out of 6362620 samples were correctly labeled.\n"
          ]
        }
      ],
      "source": [
        "labels = kmeans.labels_\n",
        "# check how many of the samples were correctly labeled\n",
        "correct_labels = sum(y == labels)\n",
        "print(\"Result: %d out of %d samples were correctly labeled.\" % (correct_labels, y.size))"
      ]
    },
    {
      "cell_type": "code",
      "execution_count": 46,
      "metadata": {
        "id": "hbz8SD0pW6tN",
        "colab": {
          "base_uri": "https://localhost:8080/"
        },
        "outputId": "4da3d762-d7c4-4920-8412-3720a5219a3a"
      },
      "outputs": [
        {
          "output_type": "stream",
          "name": "stdout",
          "text": [
            "Accuracy score: 0.00\n"
          ]
        }
      ],
      "source": [
        "print('Accuracy score: {0:0.2f}'. format(correct_labels/float(y.size)))"
      ]
    },
    {
      "cell_type": "markdown",
      "source": [
        "Since the accuracy score is 0.0 and this algoirthm doesn't suit this dataset,I need not use the Intel® Daal4py library for kmeansClustering. If your dataset suits K-means clustering use  Intel(R) oneAPI Data Analytics Library K-Means Initialization."
      ],
      "metadata": {
        "id": "fjjN-jy_LlNK"
      }
    },
    {
      "cell_type": "markdown",
      "metadata": {
        "id": "Tx6PXWornpee"
      },
      "source": [
        "**Linear Regression**"
      ]
    },
    {
      "cell_type": "code",
      "execution_count": 47,
      "metadata": {
        "id": "PfqHA_n5qzdd"
      },
      "outputs": [],
      "source": [
        "import numpy as np\n",
        "from sklearn.linear_model import LinearRegression"
      ]
    },
    {
      "cell_type": "code",
      "execution_count": 48,
      "metadata": {
        "id": "rKANq41SP46B",
        "colab": {
          "base_uri": "https://localhost:8080/"
        },
        "outputId": "07f722ac-077c-462b-fb3f-f7bc0aef7972"
      },
      "outputs": [
        {
          "output_type": "execute_result",
          "data": {
            "text/plain": [
              "LinearRegression()"
            ]
          },
          "metadata": {},
          "execution_count": 48
        }
      ],
      "source": [
        "model = LinearRegression()\n",
        "model.fit(x_resample, y_resample)"
      ]
    },
    {
      "cell_type": "code",
      "execution_count": 49,
      "metadata": {
        "id": "D5I4wsy6P5Tr",
        "colab": {
          "base_uri": "https://localhost:8080/"
        },
        "outputId": "112ec358-8bc2-44ac-aea3-f1cf9a3501a0"
      },
      "outputs": [
        {
          "output_type": "stream",
          "name": "stdout",
          "text": [
            "Accuracy score(Linear Regression): 0.36759377404639515\n"
          ]
        }
      ],
      "source": [
        "r_sq = model.score(x_resample, y_resample)\n",
        "print(f\"Accuracy score(Linear Regression): {r_sq}\")"
      ]
    },
    {
      "cell_type": "markdown",
      "source": [
        "Still the accuracy score is less and not up to the mark.I will try with **LogisticRegression** Algorithm and predict the accuracy score."
      ],
      "metadata": {
        "id": "EZzXPLePMlPs"
      }
    },
    {
      "cell_type": "markdown",
      "metadata": {
        "id": "Y830ucnWgeTC"
      },
      "source": [
        "**Logistic Regression**"
      ]
    },
    {
      "cell_type": "code",
      "execution_count": 50,
      "metadata": {
        "id": "B9INSlydgmKk",
        "colab": {
          "base_uri": "https://localhost:8080/"
        },
        "outputId": "6c3a0634-7ffd-4a67-f557-f89b5ab9aba3"
      },
      "outputs": [
        {
          "output_type": "execute_result",
          "data": {
            "text/plain": [
              "LogisticRegression(random_state=0)"
            ]
          },
          "metadata": {},
          "execution_count": 50
        }
      ],
      "source": [
        "from sklearn.linear_model import LogisticRegression\n",
        "classifier = LogisticRegression(random_state = 0)\n",
        "classifier.fit(x_resample, y_resample)"
      ]
    },
    {
      "cell_type": "code",
      "execution_count": 51,
      "metadata": {
        "id": "sXI1KnDugmHv"
      },
      "outputs": [],
      "source": [
        "y_pred = classifier.predict(x_test)"
      ]
    },
    {
      "cell_type": "code",
      "execution_count": 52,
      "metadata": {
        "id": "2yWs6t4KgmEq",
        "colab": {
          "base_uri": "https://localhost:8080/"
        },
        "outputId": "690cf269-c850-4da2-d068-e59e06d35f3e"
      },
      "outputs": [
        {
          "output_type": "stream",
          "name": "stdout",
          "text": [
            "Confusion Matrix : \n",
            " [[551538   1582]\n",
            " [254047 297712]]\n"
          ]
        }
      ],
      "source": [
        "from sklearn.metrics import confusion_matrix\n",
        "cm = confusion_matrix(y_test, y_pred)\n",
        "\n",
        "print (\"Confusion Matrix : \\n\", cm)"
      ]
    },
    {
      "cell_type": "code",
      "execution_count": 53,
      "metadata": {
        "id": "VyQuBknbgl6S",
        "colab": {
          "base_uri": "https://localhost:8080/"
        },
        "outputId": "f8d45fc0-3324-4dad-f8c6-fa9898c8cb5f"
      },
      "outputs": [
        {
          "output_type": "stream",
          "name": "stdout",
          "text": [
            "Accuracy :  0.7686362036023854\n"
          ]
        }
      ],
      "source": [
        "from sklearn.metrics import accuracy_score\n",
        "print (\"Accuracy : \", accuracy_score(y_test, y_pred))"
      ]
    },
    {
      "cell_type": "markdown",
      "source": [
        "Now,we can see an improvement in accuracy score but still we can apply other algorithms.I will go with **XGB Algorithms**"
      ],
      "metadata": {
        "id": "iHiEERaVM73-"
      }
    },
    {
      "cell_type": "markdown",
      "metadata": {
        "id": "udSYJVI8gOiL"
      },
      "source": [
        "Since XGBoost version 0.81, Intel® has added numerous optimizations to the package that were upstreamed in order to maximise training performance.\n",
        "\n",
        "After identifying the ideal XGBoost model hyperparameters, we will switch the model over to a daal4py model to achieve even better prediction time performance. The Intel® Advanced Vector Extensions (Intel® AVX-512) hardware is used by Daal4py, which may be obtained from the Intel® oneAPI Data Analytics Library (oneDAL), to enhance gradient boosting performance on Intel® Xeon® processors."
      ]
    },
    {
      "cell_type": "code",
      "execution_count": 55,
      "metadata": {
        "id": "5TDOSPXfgGtb",
        "colab": {
          "base_uri": "https://localhost:8080/"
        },
        "outputId": "5e584751-e248-498b-eac4-8199be3c9677"
      },
      "outputs": [
        {
          "output_type": "stream",
          "name": "stdout",
          "text": [
            "[19:17:10] WARNING: /workspace/src/learner.cc:686: Tree method is automatically selected to be 'approx' for faster speed. To use old behavior (exact greedy algorithm on single machine), set tree_method to 'exact'.\n",
            "The Accuracy Score(XGBClassifier) is 0.9980061246388607\n"
          ]
        }
      ],
      "source": [
        "import xgboost as xgb\n",
        "from xgboost.sklearn import XGBClassifier\n",
        "from sklearn.metrics import average_precision_score\n",
        "\n",
        "model = XGBClassifier()\n",
        "model.fit(x_train, y_train)\n",
        "\n",
        "y_pred = model.predict(x_test)\n",
        "\n",
        "# score of the model\n",
        "auprc = average_precision_score(y_test, y_pred)\n",
        "print(\"The Accuracy Score(XGBClassifier) is\", auprc)"
      ]
    },
    {
      "cell_type": "code",
      "execution_count": 56,
      "metadata": {
        "id": "_uiJqApzrYXk",
        "colab": {
          "base_uri": "https://localhost:8080/"
        },
        "outputId": "d17b527c-6592-4ddb-a84f-48ae22965977"
      },
      "outputs": [
        {
          "output_type": "stream",
          "name": "stdout",
          "text": [
            "\n",
            " The performance time without using Intel® Daal4py library0.00013256072998046875\n"
          ]
        }
      ],
      "source": [
        "import time\n",
        "start = time.time()\n",
        "XGBClassifier(2500)\n",
        "end = time.time()\n",
        "total_time = end - start\n",
        "print(\"\\n The performance time without using Intel® Daal4py library\"+ str(total_time))"
      ]
    },
    {
      "cell_type": "markdown",
      "metadata": {
        "id": "kdJt9127ghda"
      },
      "source": [
        "**Using Intel® Daal4py library:-**With the help of the get gbt model from xgboost() method, it is quite simple to convert a tuned XGBoost model to Daal4py in just one line of code. The probabilities on the test set can then be calculated using Daal4py's prediction function by sending the trained model along with the input data."
      ]
    },
    {
      "cell_type": "code",
      "source": [
        "def prepare_train_test_data(data, target_col, test_size):\n",
        "    \n",
        "    \"\"\"\n",
        "    Function to scale and split the data into training and test sets\n",
        "    \"\"\"\n",
        "    \n",
        "    scaler = RobustScaler()   \n",
        "    X = dataset.drop(target_col, axis=1)\n",
        "    y = dataset[target_col]\n",
        "    x_train, x_test, y_train, y_test = train_test_split(x, y, test_size=test_size, random_state=21)\n",
        "    x_train_scaled = scaler.fit_transform(x_train)\n",
        "    x_test_scaled = scaler.transform(x_test)\n",
        "    print(\"Train Shape: {}\".format(x_train_scaled.shape))\n",
        "    print(\"Test Shape: {}\".format(x_test_scaled.shape))\n",
        "    \n",
        "    return x_train_scaled, x_test_scaled, y_train, y_test"
      ],
      "metadata": {
        "id": "W8mUpOM8xZHn"
      },
      "execution_count": 88,
      "outputs": []
    },
    {
      "cell_type": "markdown",
      "source": [
        "**GradientBoostingAlgorithm**"
      ],
      "metadata": {
        "id": "oLdAlPSkNsE1"
      }
    },
    {
      "cell_type": "code",
      "source": [
        "from sklearn.ensemble import GradientBoostingClassifier\n",
        "gb_classifier=GradientBoostingClassifier(n_estimators=20,learning_rate=0.1,max_features=2,max_depth=2,random_state=0)\n",
        "gb_model=gb_classifier.fit(x_train,y_train)\n",
        "print(\"train score :\"+str(gb_model.score(x_train,y_train)))\n",
        "print(\"test score :\"+str(gb_model.score(x_test,y_test)))"
      ],
      "metadata": {
        "colab": {
          "base_uri": "https://localhost:8080/"
        },
        "id": "ydhKT5R1Ks-K",
        "outputId": "56cc20e0-d2db-456f-8ac0-fa3883fb45f3"
      },
      "execution_count": 92,
      "outputs": [
        {
          "output_type": "stream",
          "name": "stdout",
          "text": [
            "train score :0.9656247192846814\n",
            "test score :0.9654821930727256\n"
          ]
        }
      ]
    },
    {
      "cell_type": "code",
      "source": [
        "## Initialize XGBoost model ##\n",
        "ratio = float(np.sum(y_train == 0)) / np.sum(y_train == 1)\n",
        "parameters = {'scale_pos_weight': ratio.round(2), \n",
        "                'tree_method': 'hist',\n",
        "                'random_state': 21}\n",
        "xgb_model = XGBClassifier(**parameters)\n",
        "\n",
        "## Tune hyperparameters ##\n",
        "strat_kfold = StratifiedKFold(n_splits=3, shuffle=True, random_state=21)\n",
        "print(\"\\nTuning hyperparameters..\")\n",
        "grid = {'min_child_weight': [1, 5, 10],\n",
        "        'gamma': [0.5, 1, 1.5, 2, 5],\n",
        "        'max_depth': [3, 4, 5],\n",
        "        }\n",
        "\n",
        "grid_search = GridSearchCV(xgb_model, param_grid=grid, \n",
        "                            cv=strat_kfold, scoring='roc_auc', \n",
        "                            verbose=1, n_jobs=-1)\n",
        "grid_search.fit(x_train, y_train)\n",
        "\n",
        "print(\"Done!\\nBest hyperparameters:\", grid_search.best_params_)\n",
        "print(\"Best cross-validation AUC: {:.4f}\".format(grid_search.best_score_))"
      ],
      "metadata": {
        "id": "e_k9bbo4OWKT"
      },
      "execution_count": null,
      "outputs": []
    },
    {
      "cell_type": "code",
      "execution_count": 59,
      "metadata": {
        "id": "1zBPo7g6hxpL",
        "colab": {
          "base_uri": "https://localhost:8080/"
        },
        "outputId": "0acabde6-33da-4c3c-a874-934f0b46c9da"
      },
      "outputs": [
        {
          "output_type": "stream",
          "name": "stdout",
          "text": [
            "[20:47:38] WARNING: /workspace/src/objective/regression_obj.cu:152: reg:linear is now deprecated in favor of reg:squarederror.\n",
            "The Accuracy Score(XGBRegressor) is 0.99982453235433\n"
          ]
        }
      ],
      "source": [
        "import xgboost as xgb\n",
        "from xgboost.sklearn import XGBRegressor\n",
        "from sklearn.metrics import average_precision_score\n",
        "\n",
        "model = XGBRegressor()\n",
        "model.fit(x_test, y_test)\n",
        "\n",
        "y_pred = model.predict(x_test)\n",
        "\n",
        "## Convert XGB model to daal4py ##\n",
        "xgb = grid_search.best_estimator_\n",
        "daal_model = d4p.get_gbt_model_from_xgboost(xgb.get_booster())\n",
        "\n",
        "# score of the model\n",
        "auprc = average_precision_score(y_test, y_pred)\n",
        "print(\"The Accuracy Score(XGBRegressor) is\", auprc)"
      ]
    },
    {
      "cell_type": "code",
      "execution_count": 60,
      "metadata": {
        "id": "woLfAbWtvH0I",
        "colab": {
          "base_uri": "https://localhost:8080/"
        },
        "outputId": "84180365-2ce6-427c-88a8-0a80fcd95a76"
      },
      "outputs": [
        {
          "output_type": "stream",
          "name": "stdout",
          "text": [
            "\n",
            " The performance time using Intel® Daal4py library0.00010061264038085938\n"
          ]
        }
      ],
      "source": [
        "import time\n",
        "start = time.time()\n",
        "XGBRegressor(2500)\n",
        "end = time.time()\n",
        "total_time = end - start\n",
        "print(\"\\n The performance time using Intel® Daal4py library\"+ str(total_time))"
      ]
    },
    {
      "cell_type": "markdown",
      "source": [
        "We can conclude that after using Intel® Daal4py library,the execution time is lesser than before.It gives **predictions with better time performances.**Now the accuracy score is almost 1,so we can conclude that **XGB algorithm** suits this dataset."
      ],
      "metadata": {
        "id": "7ISMj7jYN2Gp"
      }
    }
  ],
  "metadata": {
    "colab": {
      "provenance": [],
      "authorship_tag": "ABX9TyOWz/i7NGc2zP8CU7P4Y/PG",
      "include_colab_link": true
    },
    "kernelspec": {
      "display_name": "Python 3",
      "name": "python3"
    },
    "language_info": {
      "name": "python"
    }
  },
  "nbformat": 4,
  "nbformat_minor": 0
}